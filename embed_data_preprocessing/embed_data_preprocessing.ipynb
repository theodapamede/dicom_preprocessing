{
 "cells": [
  {
   "cell_type": "markdown",
   "id": "04c826fe-d5a3-4aa3-9866-8a8963290b90",
   "metadata": {},
   "source": [
    "<img src=\"figures/hiti.png\" alt=\"HITILab\" width=\"150\"/>\n",
    "\n",
    "<!-- Author: Theo Dapamede, MD, PhD -->\n",
    "<!-- Github: theodapamede -->"
   ]
  },
  {
   "cell_type": "markdown",
   "id": "b1641cab-c092-4f7e-8ed6-582d173890de",
   "metadata": {},
   "source": [
    "# EMBED: Data Preprocessing"
   ]
  },
  {
   "cell_type": "markdown",
   "id": "4a9a2528-5ad4-4aa1-bc10-9ad146d6b3e8",
   "metadata": {},
   "source": [
    "By going through this lecture and notebook, you should be able to:\n",
    "\n",
    "1. Identify specific DICOM tags for mammography;\n",
    "2. Understand the relationship between the DICOM tags and the EMBED `metadata.csv`;\n",
    "3. Perform common image preprocessing techniques for mammograms;\n",
    "4. Identify common pitfalls or challenges in preprocessing mammograms and understand potential solutions; \n",
    "5. Understand the basics of DBT images;\n",
    "6. Understand the basics of MRI images"
   ]
  },
  {
   "cell_type": "markdown",
   "id": "9156b75d-1ccb-4ed3-8ea5-7fade287f06f",
   "metadata": {},
   "source": [
    "# 0. Load Libraries and Prepare Environment"
   ]
  },
  {
   "cell_type": "code",
   "execution_count": null,
   "id": "6f2d45ac-b65c-4da8-9b36-4fd0ac1b7ec3",
   "metadata": {},
   "outputs": [],
   "source": [
    "import os\n",
    "import glob\n",
    "import pandas as pd\n",
    "import numpy as np\n",
    "import cv2\n",
    "import matplotlib\n",
    "import matplotlib.pyplot as plt\n",
    "from matplotlib import rc\n",
    "from matplotlib.animation import FuncAnimation\n",
    "from PIL import Image\n",
    "from IPython.display import display"
   ]
  },
  {
   "cell_type": "code",
   "execution_count": null,
   "id": "65bd1e4c-9c1b-49aa-86e1-7df44b4bba5a",
   "metadata": {},
   "outputs": [],
   "source": [
    "from tqdm import tqdm"
   ]
  },
  {
   "cell_type": "code",
   "execution_count": null,
   "id": "a3812284-e929-4b41-aa6f-d1372c489bf2",
   "metadata": {},
   "outputs": [],
   "source": [
    "import pydicom\n",
    "from pydicom.pixel_data_handlers import apply_modality_lut, apply_voi_lut"
   ]
  },
  {
   "cell_type": "code",
   "execution_count": null,
   "id": "21ae6f93-b071-48d5-9cff-5548af1ee090",
   "metadata": {},
   "outputs": [],
   "source": [
    "pd.set_option('display.max_columns', 500)"
   ]
  },
  {
   "cell_type": "code",
   "execution_count": null,
   "id": "576326b4-76c9-4031-9100-dc2fc27c0467",
   "metadata": {},
   "outputs": [],
   "source": [
    "matplotlib.rcParams['animation.embed_limit'] = 2**128"
   ]
  },
  {
   "cell_type": "code",
   "execution_count": null,
   "id": "333017a6-fa42-4cc4-bc43-8a5bbeb86a32",
   "metadata": {},
   "outputs": [],
   "source": [
    "rc('animation', html='jshtml')"
   ]
  },
  {
   "cell_type": "code",
   "execution_count": null,
   "id": "f7ace202-a556-467f-9e84-467fc4dfaeb7",
   "metadata": {},
   "outputs": [],
   "source": [
    "RANDOM_SEED = 2024"
   ]
  },
  {
   "cell_type": "markdown",
   "id": "1427283c-4226-4a07-a513-ca147e4d4396",
   "metadata": {},
   "source": [
    "## 0.1. Defining Functions"
   ]
  },
  {
   "cell_type": "code",
   "execution_count": null,
   "id": "cabcf607-55e2-4bc7-8563-92a6ae305cdd",
   "metadata": {},
   "outputs": [],
   "source": [
    "def process_dicom_image(dicom):\n",
    "    return apply_voi_lut(apply_modality_lut(dicom.pixel_array, dicom), dicom)"
   ]
  },
  {
   "cell_type": "code",
   "execution_count": null,
   "id": "21198f7b-00b1-4d1d-85e2-16ed21736167",
   "metadata": {},
   "outputs": [],
   "source": [
    "def animate_3d_array(data, DPI=150, vmin=np.iinfo(np.int16).min, vmax=np.iinfo(np.int16).max, aspect_ratio = \"equal\"):\n",
    "    # Ensure data is a 3D numpy array\n",
    "    if not isinstance(data, np.ndarray) or data.ndim != 3:\n",
    "        raise ValueError(\"Input must be a 3D numpy array\")\n",
    "\n",
    "    fig, ax = plt.subplots(dpi=DPI)\n",
    "    plt.close(fig)\n",
    "    \n",
    "    # Display the first slice\n",
    "    im = ax.imshow(data[0], cmap='gray', animated=True, vmin=vmin, vmax=vmax, aspect=aspect_ratio)\n",
    "    \n",
    "    # Set the title to show the current slice number\n",
    "    title = ax.set_title('Slice 0')\n",
    "\n",
    "    def update(frame):\n",
    "        im.set_array(data[frame])\n",
    "        title.set_text(f'Slice {frame}')\n",
    "        return im, title\n",
    "\n",
    "    # Create the animation\n",
    "    anim = FuncAnimation(fig, update, frames=data.shape[0], interval=50, blit=True)\n",
    "    \n",
    "    return anim"
   ]
  },
  {
   "cell_type": "code",
   "execution_count": null,
   "id": "0f498f2f-4dbb-4ee8-a4cb-fd46cb82ccc0",
   "metadata": {},
   "outputs": [],
   "source": []
  },
  {
   "cell_type": "markdown",
   "id": "9cbe246a-8496-40be-8d22-7cffebbc0303",
   "metadata": {},
   "source": [
    "# 1. Load Tables"
   ]
  },
  {
   "cell_type": "code",
   "execution_count": null,
   "id": "7eba1f4e-45ea-4e85-b1f0-f5070e540a72",
   "metadata": {},
   "outputs": [],
   "source": [
    "metadata = pd.read_csv('/fsx/embed/summer-school-24/Theo_session/tables/tutorial_metadata.csv')"
   ]
  },
  {
   "cell_type": "code",
   "execution_count": null,
   "id": "0d784edd-2849-4ea0-9a8e-84ae3bfde44c",
   "metadata": {},
   "outputs": [],
   "source": [
    "# Sample a dicom file for example purposes\n",
    "dicom_file = metadata.anon_dicom_path.iloc[3]\n",
    "dicom_file"
   ]
  },
  {
   "cell_type": "code",
   "execution_count": null,
   "id": "ed462c6c-fbcb-43a3-9bcc-741547da393c",
   "metadata": {},
   "outputs": [],
   "source": [
    "loaded_dicom = pydicom.dcmread(dicom_file)"
   ]
  },
  {
   "cell_type": "markdown",
   "id": "4c82fc7c-475f-4467-9aba-8792adaf8282",
   "metadata": {},
   "source": [
    "# 1.1. Mammogram specific tags\n",
    "\n",
    "- PatientID\n",
    "- AccessionNumber\n",
    "- StudyDate\n",
    "- UIDs [Series, Study, Instance]\n",
    "- Modality\n",
    "- Study and Series Description\n",
    "- Breast Implant Present\n",
    "- Compression Force and Compression Pressure\n",
    "- Image Laterality\n",
    "- View Position"
   ]
  },
  {
   "cell_type": "code",
   "execution_count": null,
   "id": "cd8f21d5-46e3-4c10-816a-38ccff0a8a54",
   "metadata": {
    "scrolled": true
   },
   "outputs": [],
   "source": [
    "# DICOM Tags --> in parentheses (xxxx, xxxx)\n",
    "# Followed by DICOM Tag name; Value Representation; Value\n",
    "loaded_dicom"
   ]
  },
  {
   "cell_type": "markdown",
   "id": "64573cb4-80a1-4710-a6fe-eb3a8e6a2c11",
   "metadata": {},
   "source": [
    "### 1.1.1. Modality"
   ]
  },
  {
   "cell_type": "code",
   "execution_count": null,
   "id": "2aaadda4-5864-4d4c-b087-1ed7a236706c",
   "metadata": {},
   "outputs": [],
   "source": [
    "loaded_dicom.Modality"
   ]
  },
  {
   "cell_type": "code",
   "execution_count": null,
   "id": "d2ce360b-df6e-4b44-bb3d-3fd8d156922c",
   "metadata": {},
   "outputs": [],
   "source": []
  },
  {
   "cell_type": "markdown",
   "id": "b223a9d2-407f-436c-89f8-10d7b80881a1",
   "metadata": {},
   "source": [
    "### 1.1.2. Breast Implant Present"
   ]
  },
  {
   "cell_type": "code",
   "execution_count": null,
   "id": "f30118f8-ae97-4530-b394-c356b7482125",
   "metadata": {},
   "outputs": [],
   "source": [
    "loaded_dicom.BreastImplantPresent"
   ]
  },
  {
   "cell_type": "markdown",
   "id": "be146946-d71d-458a-9d04-60f5a69c9aff",
   "metadata": {},
   "source": [
    "### ☢️ ***Exercise 1***\n",
    "\n",
    "*An ongoing challenge is that this tag does not always tell the truth.*\n",
    "\n",
    "What solution(s) could address this issue?"
   ]
  },
  {
   "cell_type": "code",
   "execution_count": null,
   "id": "b43c14a0-bc53-4f1c-8cee-08a77960948a",
   "metadata": {},
   "outputs": [],
   "source": [
    "# Type answer here"
   ]
  },
  {
   "cell_type": "code",
   "execution_count": null,
   "id": "6cbca2d5-8d1a-444d-80ae-5149f28a5f5c",
   "metadata": {},
   "outputs": [],
   "source": []
  },
  {
   "cell_type": "markdown",
   "id": "edf0a0a6-90dc-47ea-af52-e5842b4a0c32",
   "metadata": {
    "tags": []
   },
   "source": [
    "### 1.1.3 Compression force & Compression Pressure\n",
    "Compression force typically ranges from 100-200 Newtons. \n",
    "\n",
    "Importance of adequate compression force:\n",
    "1. Reducing radiation dose\n",
    "2. Improve image quality\n",
    "\n",
    "Compression pressure (in kPa) is related to pain during image acquitision. This tag is reported to be available in more recent machines.\n",
    "\n",
    "Some questions to think about:\n",
    "- How does compression force or compression pressure affect the screening adherance rate?\n",
    "- Does this rate vary between different demographics?\n",
    "- Is it related to density of the breast?\n",
    "\n",
    "*Reference*\n",
    "\n",
    "- [Moshina, et al. 2018](https://www.sciencedirect.com/science/article/pii/S0091743518300082)"
   ]
  },
  {
   "cell_type": "code",
   "execution_count": null,
   "id": "f5be43d9-733e-48ea-a7b3-3500600d9294",
   "metadata": {},
   "outputs": [],
   "source": [
    "loaded_dicom.CompressionForce"
   ]
  },
  {
   "cell_type": "code",
   "execution_count": null,
   "id": "a520e9cc-4e03-4b88-8546-d3184ee108bd",
   "metadata": {},
   "outputs": [],
   "source": [
    "# loaded_dicom.CompressionPressure  # not all vendors provide this value"
   ]
  },
  {
   "cell_type": "code",
   "execution_count": null,
   "id": "00336c74-11fd-4c3f-97b2-1a3a4ffc9cee",
   "metadata": {},
   "outputs": [],
   "source": []
  },
  {
   "cell_type": "markdown",
   "id": "f702e7bc-3f26-4a6c-9c99-87b373f4c8e0",
   "metadata": {},
   "source": [
    "### 1.1.5. Image Laterality"
   ]
  },
  {
   "cell_type": "code",
   "execution_count": null,
   "id": "44fdfd25-e646-4311-8be5-b29396bd9320",
   "metadata": {},
   "outputs": [],
   "source": [
    "loaded_dicom.ImageLaterality"
   ]
  },
  {
   "cell_type": "code",
   "execution_count": null,
   "id": "1a6a1ceb-2895-4247-82f7-40b1fddc1cde",
   "metadata": {},
   "outputs": [],
   "source": []
  },
  {
   "cell_type": "markdown",
   "id": "bc4b2ab0-5dca-4521-85ee-7ece603b4e05",
   "metadata": {},
   "source": [
    "### 1.1.6. View Position"
   ]
  },
  {
   "cell_type": "code",
   "execution_count": null,
   "id": "0f17650f-cbc5-4869-9e27-84547d089095",
   "metadata": {},
   "outputs": [],
   "source": [
    "loaded_dicom.ViewPosition"
   ]
  },
  {
   "cell_type": "code",
   "execution_count": null,
   "id": "994aa3e9-b299-4f7b-9bc5-004d046c51f0",
   "metadata": {},
   "outputs": [],
   "source": []
  },
  {
   "cell_type": "markdown",
   "id": "4844cf3d-2023-4544-81a4-fd5a562f8d9d",
   "metadata": {},
   "source": [
    "There is another tag that can also provide information regarding view position."
   ]
  },
  {
   "cell_type": "code",
   "execution_count": null,
   "id": "45aac091-31a4-4db4-9e73-728c6108ecee",
   "metadata": {
    "tags": []
   },
   "outputs": [],
   "source": [
    "loaded_dicom.ViewCodeSequence"
   ]
  },
  {
   "cell_type": "code",
   "execution_count": null,
   "id": "83c3f6d9-a67d-41fb-823b-1af43d5ba54f",
   "metadata": {},
   "outputs": [],
   "source": [
    "loaded_dicom.ViewCodeSequence[0]"
   ]
  },
  {
   "cell_type": "markdown",
   "id": "2e74f4aa-bb62-4a47-b5ef-6b4043bc8fbf",
   "metadata": {},
   "source": [
    "# 1.2. Nested DICOM Tags"
   ]
  },
  {
   "cell_type": "markdown",
   "id": "d3570c5d-d378-41b9-ba78-0295061298b4",
   "metadata": {},
   "source": [
    "![Nested DICOM Tags](https://i.sstatic.net/JMyoM.gif, \"Nested DICOM Tags\")\n",
    "\n",
    "Image Source: https://stackoverflow.com/questions/46690392/how-to-read-nested-child-dicom-tags-from-sequences-using-fo-dicom"
   ]
  },
  {
   "cell_type": "code",
   "execution_count": null,
   "id": "83e1a86e-aef7-45e9-b294-1a8cc6b431a4",
   "metadata": {},
   "outputs": [],
   "source": [
    "loaded_dicom.ViewCodeSequence"
   ]
  },
  {
   "cell_type": "code",
   "execution_count": null,
   "id": "4d8670f3-eb53-4b25-96cd-becdae1e2182",
   "metadata": {},
   "outputs": [],
   "source": [
    "for sequence in loaded_dicom.ViewCodeSequence:\n",
    "    print(sequence)"
   ]
  },
  {
   "cell_type": "code",
   "execution_count": null,
   "id": "f2df21dc-9474-4ff4-952c-1b789910a970",
   "metadata": {},
   "outputs": [],
   "source": [
    "loaded_dicom.ViewCodeSequence[0].CodeMeaning"
   ]
  },
  {
   "cell_type": "markdown",
   "id": "c3d8ae5e-8150-41e2-8f0e-e930607b7910",
   "metadata": {},
   "source": [
    "[Click to see more information regarding Coding Schemes](https://dicom.nema.org/medical/dicom/current/output/chtml/part16/chapter_8.html#chapter_8.1)"
   ]
  },
  {
   "cell_type": "markdown",
   "id": "cc7db354-12d9-4924-b27b-4f88e749b513",
   "metadata": {},
   "source": [
    "### ☢️ ***Exercise 2***\n",
    "\n",
    "If `loaded_dicom.ViewPosition` contains the same information as `loaded_dicom.ViewCodeSequence[0].CodeMeaning`, which tag do you use? Why?"
   ]
  },
  {
   "cell_type": "code",
   "execution_count": null,
   "id": "fffe2978-5616-423a-944c-a039af455e31",
   "metadata": {},
   "outputs": [],
   "source": [
    "# Type answer here"
   ]
  },
  {
   "cell_type": "code",
   "execution_count": null,
   "id": "33092f46-2ce9-41fc-a614-aab4693db078",
   "metadata": {},
   "outputs": [],
   "source": []
  },
  {
   "cell_type": "markdown",
   "id": "d420a38a-620f-4a26-bac6-06983a4a158f",
   "metadata": {
    "tags": []
   },
   "source": [
    "**Another example**"
   ]
  },
  {
   "cell_type": "code",
   "execution_count": null,
   "id": "6d38f892-884c-451e-ae07-35cfde29fc83",
   "metadata": {},
   "outputs": [],
   "source": [
    "loaded_dicom.SourceImageSequence"
   ]
  },
  {
   "cell_type": "code",
   "execution_count": null,
   "id": "a062b27f-5543-4a40-9bcd-402857a642cd",
   "metadata": {},
   "outputs": [],
   "source": [
    "loaded_dicom.SourceImageSequence[0]"
   ]
  },
  {
   "cell_type": "code",
   "execution_count": null,
   "id": "8262996d-b024-4b81-bb72-865a8f197f3f",
   "metadata": {},
   "outputs": [],
   "source": [
    "loaded_dicom.SourceImageSequence[0].PurposeOfReferenceCodeSequence[0]"
   ]
  },
  {
   "cell_type": "code",
   "execution_count": null,
   "id": "c3843686-841b-4728-a2e6-67daf28898ca",
   "metadata": {},
   "outputs": [],
   "source": [
    "loaded_dicom.SourceImageSequence[0].PurposeOfReferenceCodeSequence[0].CodeMeaning"
   ]
  },
  {
   "cell_type": "code",
   "execution_count": null,
   "id": "29795684-d176-4c21-8bdd-3ea22e181a62",
   "metadata": {},
   "outputs": [],
   "source": []
  },
  {
   "cell_type": "markdown",
   "id": "d22ae2b5-2175-4855-9c65-ce88b848aa0b",
   "metadata": {
    "tags": []
   },
   "source": [
    "# 2.1. The Structure of EMBED `Metadata.csv`\n",
    "\n",
    "The majority of columns in `metadata.csv` are extracted DICOM tags."
   ]
  },
  {
   "cell_type": "code",
   "execution_count": null,
   "id": "3edc37a6-9939-425c-aca3-b6c61a163b5b",
   "metadata": {
    "scrolled": true,
    "tags": []
   },
   "outputs": [],
   "source": [
    "for i in range(len(metadata.columns)):\n",
    "    print(i+1, list(metadata.columns)[i])"
   ]
  },
  {
   "cell_type": "markdown",
   "id": "295177ef-0407-40ad-ba97-ee500c08d011",
   "metadata": {},
   "source": [
    "In `metadata` file, the nested DICOM tags follow the following structure:\n",
    "\n",
    "`0_[Parent Tag]_[Child Tag]`.\n",
    "\n",
    "For example: '0_AnatomicRegionSequence_CodingSchemeDesignator'"
   ]
  },
  {
   "cell_type": "code",
   "execution_count": null,
   "id": "ce1aa4d9-70ba-4665-bc48-64a746e95c72",
   "metadata": {},
   "outputs": [],
   "source": []
  },
  {
   "cell_type": "markdown",
   "id": "47369dbf-1994-4578-8e1b-3fcfc8e02985",
   "metadata": {},
   "source": [
    "# 3. Working with DICOM Images"
   ]
  },
  {
   "cell_type": "markdown",
   "id": "b332762f-d84f-4515-bb39-0e3792cd027f",
   "metadata": {},
   "source": [
    "## 3.1. Load DICOM Image Pixels"
   ]
  },
  {
   "cell_type": "code",
   "execution_count": null,
   "id": "22cd47f5-1e00-4b35-b5af-65e74070c713",
   "metadata": {},
   "outputs": [],
   "source": [
    "loaded_dicom[0x7FE0,0x0010]"
   ]
  },
  {
   "cell_type": "code",
   "execution_count": null,
   "id": "bb4bfa62-2e75-4681-b926-137f77b6c40e",
   "metadata": {},
   "outputs": [],
   "source": [
    "loaded_dicom[0x7FE0,0x0010].keyword"
   ]
  },
  {
   "cell_type": "code",
   "execution_count": null,
   "id": "2777b55f-474b-4b81-a280-22a95decc3a6",
   "metadata": {},
   "outputs": [],
   "source": [
    "loaded_dicom.pixel_array"
   ]
  },
  {
   "cell_type": "code",
   "execution_count": null,
   "id": "49fdf270-887e-4ffc-8e60-5ad815ffcaf4",
   "metadata": {},
   "outputs": [],
   "source": [
    "image = loaded_dicom.pixel_array"
   ]
  },
  {
   "cell_type": "code",
   "execution_count": null,
   "id": "1dfb55f0-7265-40fe-b79a-c1c9cc96b7c6",
   "metadata": {},
   "outputs": [],
   "source": [
    "print(image.shape)  # (Height, Width)"
   ]
  },
  {
   "cell_type": "code",
   "execution_count": null,
   "id": "0994f52a-d409-4db6-b586-9cbad5b447ca",
   "metadata": {},
   "outputs": [],
   "source": [
    "print(image.dtype)"
   ]
  },
  {
   "cell_type": "code",
   "execution_count": null,
   "id": "c0a18b5e-a3bd-4146-a9d2-af5b6edafa00",
   "metadata": {},
   "outputs": [],
   "source": []
  },
  {
   "cell_type": "markdown",
   "id": "2a4bac47-975d-4cc0-a14d-babe06d2390d",
   "metadata": {},
   "source": [
    "## 3.2 View a DICOM Image"
   ]
  },
  {
   "cell_type": "code",
   "execution_count": null,
   "id": "f7611714-7ce8-42c0-8e49-bc2610522095",
   "metadata": {},
   "outputs": [],
   "source": [
    "plt.figure(dpi=300)\n",
    "plt.imshow(loaded_dicom.pixel_array, 'gray')\n",
    "plt.show()"
   ]
  },
  {
   "cell_type": "code",
   "execution_count": null,
   "id": "7b715162-e00c-4d1a-b3a3-c9521e4e1bf8",
   "metadata": {},
   "outputs": [],
   "source": []
  },
  {
   "cell_type": "code",
   "execution_count": null,
   "id": "4a201602-3d3c-4558-8a90-0763f1475aaa",
   "metadata": {},
   "outputs": [],
   "source": []
  },
  {
   "cell_type": "markdown",
   "id": "5291a1c0-a3a3-4443-9150-d9c9f0d8bcb9",
   "metadata": {},
   "source": [
    "# 4. Common Image Preprocessing Techniques in Mammography for Deep Learning"
   ]
  },
  {
   "cell_type": "markdown",
   "id": "f50fa29e-05aa-474b-89cd-7437f62f90a9",
   "metadata": {},
   "source": [
    "# 4.1. Applying Modality LUT and VOI LUT\n",
    "\n",
    "Review of the Modality LUT and VOI LUT discussed on Monday\n",
    "\n",
    "### 4.1.1. Applying Modality Transforms\n",
    "The raw Pixel Data in a DICOM file may not be in the modality units. Therefore, we first need to apply a modality transformation to standardize the units.\n",
    "\n",
    "There are 2 ways of transforming the values:\n",
    "1. Using the Rescale Intercept and Rescale Slope\n",
    "We apply the Rescale Slope and Intercept using the following equation:\n",
    "\n",
    "$$\\text{Output Value} = m \\cdot \\text{Stored Value} + b$$\n",
    "\n",
    "where *m* is the Rescale Slope and *b* is the Rescale Intercept\n",
    "\n",
    "2. Using the Modality LUT\n",
    "This method uses a Look Up Table which will specify what a pixel value will be transformed into.\n",
    "\n",
    "In a DICOM file, only one of the above method is available.\n",
    "\n",
    "\n",
    "### 4.1.2. Applying the VOI LUT\n",
    "\n",
    "![VOI LUT](figures/voi_lut.png)"
   ]
  },
  {
   "cell_type": "code",
   "execution_count": null,
   "id": "3b073732-2aee-41b4-b62f-cde1b59285c4",
   "metadata": {},
   "outputs": [],
   "source": [
    "metadata.Manufacturer.value_counts()"
   ]
  },
  {
   "cell_type": "code",
   "execution_count": null,
   "id": "9141e266-be0c-47e3-a505-b6e1474947bf",
   "metadata": {},
   "outputs": [],
   "source": [
    "ge = metadata[metadata.Manufacturer.str.contains('GE')]\n",
    "holo = metadata[metadata.Manufacturer.str.contains('HOLO')]"
   ]
  },
  {
   "cell_type": "code",
   "execution_count": null,
   "id": "647994ac-84fc-485f-bdae-6acd8d011898",
   "metadata": {},
   "outputs": [],
   "source": [
    "ge.shape"
   ]
  },
  {
   "cell_type": "code",
   "execution_count": null,
   "id": "f9c2b5b6-127d-49ff-a8fd-9dcd69337420",
   "metadata": {
    "tags": []
   },
   "outputs": [],
   "source": [
    "# sample_df = ge.sample(frac=1, random_state=RANDOM_SEED)\n",
    "sample_df = ge.sample(3, random_state=RANDOM_SEED)\n",
    "for i in range(sample_df.shape[0]):\n",
    "    dcm = pydicom.dcmread(sample_df.anon_dicom_path.iloc[i])\n",
    "    fig, axs = plt.subplots(1, 2, dpi=150, constrained_layout=True, sharey=True)\n",
    "    axs[0].imshow(dcm.pixel_array, 'gray')\n",
    "    axs[1].imshow(process_dicom_image(dcm), 'gray')\n",
    "    axs[0].set_title(\"Raw\")\n",
    "    axs[1].set_title(\"Processed\")\n",
    "    plt.show()"
   ]
  },
  {
   "cell_type": "code",
   "execution_count": null,
   "id": "1946b60e-2abf-491e-a0f4-e667c9e0d600",
   "metadata": {},
   "outputs": [],
   "source": [
    "# sample_df = holo.sample(frac=1, random_state=RANDOM_SEED)\n",
    "sample_df = holo.sample(3, random_state=RANDOM_SEED)\n",
    "for i in range(sample_df.shape[0]):\n",
    "    dcm = pydicom.dcmread(sample_df.anon_dicom_path.iloc[i])\n",
    "    fig, axs = plt.subplots(1, 2, dpi=150, constrained_layout=True, sharey=True)\n",
    "    axs[0].imshow(dcm.pixel_array, 'gray')\n",
    "    axs[1].imshow(process_dicom_image(dcm), 'gray')\n",
    "    axs[0].set_title(\"Raw\")\n",
    "    axs[1].set_title(\"Processed\")\n",
    "    plt.show()"
   ]
  },
  {
   "cell_type": "code",
   "execution_count": null,
   "id": "bb11291d-0a84-4590-85d4-7767d32d940b",
   "metadata": {},
   "outputs": [],
   "source": []
  },
  {
   "cell_type": "markdown",
   "id": "22175cb6-54cf-4f1e-bd3d-35aa7cae2125",
   "metadata": {},
   "source": [
    "### ☢️ ***Exercise 3***\n",
    "\n",
    "Discuss with the person next to you, what you would do if you obtained an external dataset that has the VOI LUT removed?"
   ]
  },
  {
   "cell_type": "code",
   "execution_count": null,
   "id": "e6888e58-0eff-43d4-8bab-7bc66bc77185",
   "metadata": {},
   "outputs": [],
   "source": []
  },
  {
   "cell_type": "markdown",
   "id": "0afd220b-81db-4eb9-b0e5-a8a44c4ef15d",
   "metadata": {},
   "source": [
    "# 4.2. Flipping images to face the same orientation\n",
    "\n",
    "There are several reasons why we want to flip the images to face the same direction:\n",
    "\n",
    "1. **Baseline**: Flipping the images to face the same direction creates a consistent baseline for further downstream tasks.\n",
    "2. **Data augmentation**: In deep learning, we want to increase the variablity of the training data by performing random flippings, rotations, or scalings. With a consistent baseline, it is easier to control the augmentation pipeline.\n",
    "3. **Comparative Analysis**: Aligning images in the same orientation makes it easier to compare different images. It is also an initial step to perform image registration.\n",
    "\n",
    "The following cell is reused from: https://github.com/Emory-HITI/EMBED_Open_Data/blob/main/DCM_to_PNG.ipynb\n"
   ]
  },
  {
   "cell_type": "code",
   "execution_count": null,
   "id": "13c82e53-c68a-41a7-ace4-43cfe83b78bd",
   "metadata": {},
   "outputs": [],
   "source": [
    "# Get DICOM image metadata\n",
    "class DCM_Tags():\n",
    "    def __init__(self, img_dcm):\n",
    "        try:\n",
    "            self.laterality = img_dcm.ImageLaterality\n",
    "        except AttributeError:\n",
    "            self.laterality = np.nan\n",
    "            \n",
    "        try:\n",
    "            self.view = img_dcm.ViewPosition\n",
    "        except AttributeError:\n",
    "            self.view = np.nan\n",
    "            \n",
    "        try:\n",
    "            self.orientation = img_dcm.PatientOrientation\n",
    "        except AttributeError:\n",
    "            self.orientation = np.nan\n",
    "\n",
    "# Check whether DICOM should be flipped\n",
    "def check_dcm(imgdcm):\n",
    "    # Get DICOM metadata\n",
    "    tags = DCM_Tags(imgdcm)\n",
    "    \n",
    "    # If image orientation tag is defined\n",
    "    if ~pd.isnull(tags.orientation):\n",
    "        # CC view\n",
    "        if tags.view == 'CC':\n",
    "            if tags.orientation[0] == 'P':\n",
    "                flipHorz = True\n",
    "            else:\n",
    "                flipHorz = False\n",
    "            \n",
    "            if (tags.laterality == 'L') & (tags.orientation[1] == 'L'):\n",
    "                flipVert = True\n",
    "            elif (tags.laterality == 'R') & (tags.orientation[1] == 'R'):\n",
    "                flipVert = True\n",
    "            else:\n",
    "                flipVert = False\n",
    "        \n",
    "        # MLO or ML views\n",
    "        elif (tags.view == 'MLO') | (tags.view == 'ML'):\n",
    "            if tags.orientation[0] == 'P':\n",
    "                flipHorz = True\n",
    "            else:\n",
    "                flipHorz = False\n",
    "            \n",
    "            if (tags.laterality == 'L') & ((tags.orientation[1] == 'H') | (tags.orientation[1] == 'HL')):\n",
    "                flipVert = True\n",
    "            elif (tags.laterality == 'R') & ((tags.orientation[1] == 'H') | (tags.orientation[1] == 'HR')):\n",
    "                flipVert = True\n",
    "            else:\n",
    "                flipVert = False\n",
    "        \n",
    "        # Unrecognized view\n",
    "        else:\n",
    "            flipHorz = False\n",
    "            flipVert = False\n",
    "            \n",
    "    # If image orientation tag is undefined\n",
    "    else:\n",
    "        # Flip RCC, RML, and RMLO images\n",
    "        if (tags.laterality == 'R') & ((tags.view == 'CC') | (tags.view == 'ML') | (tags.view == 'MLO')):\n",
    "            flipHorz = True\n",
    "            flipVert = False\n",
    "        else:\n",
    "            flipHorz = False\n",
    "            flipVert = False\n",
    "            \n",
    "    return flipHorz, flipVert"
   ]
  },
  {
   "cell_type": "code",
   "execution_count": null,
   "id": "c5406a0f-a336-4bb3-81b2-c3afc8cbb471",
   "metadata": {},
   "outputs": [],
   "source": [
    "# Check if a horizontal flip is necessary\n",
    "original_image = process_dicom_image(loaded_dicom)\n",
    "horz, _ = check_dcm(loaded_dicom)\n",
    "if horz:\n",
    "    # Flip img horizontally\n",
    "    flipped_image = np.fliplr(original_image)"
   ]
  },
  {
   "cell_type": "code",
   "execution_count": null,
   "id": "031eaa0e-b46e-476b-9b23-2e116f30ee6a",
   "metadata": {},
   "outputs": [],
   "source": [
    "fig, axs = plt.subplots(1, 2, dpi=150, constrained_layout=True, sharey=True)\n",
    "axs[0].imshow(original_image, 'gray')\n",
    "axs[1].imshow(flipped_image, 'gray')\n",
    "axs[0].set_title(\"Original\")\n",
    "axs[1].set_title(\"Flipped\")\n",
    "plt.show()"
   ]
  },
  {
   "cell_type": "code",
   "execution_count": null,
   "id": "2517351f-5159-451f-80b0-1f1f10f67041",
   "metadata": {},
   "outputs": [],
   "source": []
  },
  {
   "cell_type": "markdown",
   "id": "7bf16b73-2a87-4d50-ae82-54fef4212d4b",
   "metadata": {},
   "source": [
    "# 4.3. Masking out breast tissue\n",
    "\n",
    "Some manufacturers burn in additional information to the images, such as ViewPosition markers (e.g. RMLO), dates, initials, etc.\n",
    "\n",
    "We want to remove these markers to only obtain the breast tissue.\n",
    "\n",
    "Why do we want to do this?"
   ]
  },
  {
   "cell_type": "code",
   "execution_count": null,
   "id": "5503861b-c679-427b-aedf-5e3f0cf8b9c3",
   "metadata": {},
   "outputs": [],
   "source": []
  },
  {
   "cell_type": "code",
   "execution_count": null,
   "id": "44d9eb2b-8f65-4cf9-b906-0432f4ddb798",
   "metadata": {},
   "outputs": [],
   "source": [
    "def select_island(img_):\n",
    "    _, bin_mask = cv2.threshold(img_, 0.05, 1, cv2.THRESH_BINARY)\n",
    "    \n",
    "    num_labels, labels, stats, _ = cv2.connectedComponentsWithStats(bin_mask.astype(np.uint8), connectivity=8)\n",
    "    \n",
    "    # Filter out small components (you can adjust the threshold as needed)\n",
    "    min_area_threshold = 20000  # minimum area to keep\n",
    "    island_mask = np.zeros_like(bin_mask.astype(np.uint8))\n",
    "    for label in range(1, num_labels):  # Exclude background (label 0)\n",
    "        area = stats[label, cv2.CC_STAT_AREA]\n",
    "        if area >= min_area_threshold:\n",
    "            island_mask[labels == label] = 1\n",
    "\n",
    "    return bin_mask, island_mask"
   ]
  },
  {
   "cell_type": "code",
   "execution_count": null,
   "id": "ff5156cb-79e1-43f5-9920-e1655504f081",
   "metadata": {},
   "outputs": [],
   "source": [
    "_, binary_mask = cv2.threshold(flipped_image, np.ptp(flipped_image) * 0.0005 + flipped_image.min(), flipped_image.max(), cv2.THRESH_BINARY)"
   ]
  },
  {
   "cell_type": "code",
   "execution_count": null,
   "id": "8e092a87-5aff-435e-8907-25c356d828b2",
   "metadata": {},
   "outputs": [],
   "source": [
    "plt.figure(dpi=150)\n",
    "plt.imshow(binary_mask, 'gray')\n",
    "plt.show()"
   ]
  },
  {
   "cell_type": "code",
   "execution_count": null,
   "id": "7ebb30d1-4617-495f-a406-f709e00bf2fa",
   "metadata": {},
   "outputs": [],
   "source": [
    "num_labels, labels, stats, _ = cv2.connectedComponentsWithStats(binary_mask.astype(np.uint8), connectivity=8)"
   ]
  },
  {
   "cell_type": "code",
   "execution_count": null,
   "id": "b18a6603-f2d8-4df0-8390-4202897603af",
   "metadata": {},
   "outputs": [],
   "source": [
    "# Get the area\n",
    "largest_area = 0\n",
    "label_with_largest_area = None\n",
    "for i in range(1, num_labels):\n",
    "    area = stats[i, cv2.CC_STAT_AREA]\n",
    "    print(\"Label:\", i, \"--> Area:\", area)\n",
    "    if area > largest_area:\n",
    "        largest_area = area\n",
    "        label_with_largest_area = i"
   ]
  },
  {
   "cell_type": "code",
   "execution_count": null,
   "id": "a7ebc123-af71-4bfb-a26c-887a15948f7b",
   "metadata": {},
   "outputs": [],
   "source": [
    "island_mask = np.zeros_like(binary_mask.astype(np.uint8))\n",
    "island_mask[labels == label_with_largest_area] = 1"
   ]
  },
  {
   "cell_type": "code",
   "execution_count": null,
   "id": "5936f313-de31-49e6-b431-df8fa00f5a99",
   "metadata": {},
   "outputs": [],
   "source": [
    "plt.figure(dpi=150)\n",
    "plt.imshow(island_mask, 'gray')\n",
    "plt.show()"
   ]
  },
  {
   "cell_type": "code",
   "execution_count": null,
   "id": "e8171aa9-19bd-4c2b-865e-30e092ccc681",
   "metadata": {},
   "outputs": [],
   "source": [
    "flipped_image_no_label = flipped_image * island_mask\n",
    "\n",
    "fig, axs = plt.subplots(1, 4, dpi=200, constrained_layout=True, sharey=True)\n",
    "axs[0].imshow(original_image, 'gray')\n",
    "axs[1].imshow(flipped_image, 'gray')\n",
    "axs[2].imshow(island_mask, 'gray')\n",
    "axs[3].imshow(flipped_image_no_label, 'gray')\n",
    "axs[0].set_title(\"1.\\nOriginal\")\n",
    "axs[1].set_title(\"2.\\nFlipped\")\n",
    "axs[2].set_title(\"3.\\nBinary Mask\")\n",
    "axs[3].set_title(\"4.\\nLabel Removed\")\n",
    "plt.show()"
   ]
  },
  {
   "cell_type": "code",
   "execution_count": null,
   "id": "c1159999-ab35-446e-86dc-ca905467372b",
   "metadata": {},
   "outputs": [],
   "source": []
  },
  {
   "cell_type": "markdown",
   "id": "51f18079-c5ff-41a2-b98a-52561b61d406",
   "metadata": {},
   "source": [
    "# 4.4. Crop to Breast Tissue\n",
    "\n",
    "Several points of importance of cropping to breast tissue:\n",
    "\n",
    "1. Surrounding air do not contain important information* --> saves disk space;\n",
    "2. Provides ease and more flexibility if one requires further processing steps, for example padding;\n",
    "2. Elimination of artefacts;\n",
    "\n",
    "Here's an example of artifacts in air pixels which may be due to scattered radiation.\n",
    "\n",
    "It is noticable in the Heatmap subimage that the model was picking up these artefacts as signal instead of the breast.\n",
    "\n",
    "![](figures/air_artifacts.png \"Example of the presence of scattered radiation \")\n"
   ]
  },
  {
   "cell_type": "code",
   "execution_count": null,
   "id": "568b608b-825e-48d1-8e3e-26ec09349d5f",
   "metadata": {},
   "outputs": [],
   "source": []
  },
  {
   "cell_type": "code",
   "execution_count": null,
   "id": "a49b0379-defc-4c4e-9934-50b3d191afa6",
   "metadata": {},
   "outputs": [],
   "source": [
    "def crop_zeros(image, img_mask_):\n",
    "    points = np.argwhere(img_mask_.sum(axis=0))\n",
    "    left_boundary = points.min()\n",
    "    right_boundary = points.max()\n",
    "    \n",
    "    points = np.argwhere(img_mask_.sum(axis=1))\n",
    "    top_boundary = points.min()\n",
    "    bottom_boundary = points.max()\n",
    "\n",
    "    return image[top_boundary:bottom_boundary, left_boundary: right_boundary]"
   ]
  },
  {
   "cell_type": "code",
   "execution_count": null,
   "id": "f0b79611-ad2b-42f4-b47e-43aa7ad08032",
   "metadata": {},
   "outputs": [],
   "source": [
    "cropped_img = crop_zeros(flipped_image_no_label, island_mask)"
   ]
  },
  {
   "cell_type": "code",
   "execution_count": null,
   "id": "f28330ee-fd3b-4f4c-8a9d-238b32d36de1",
   "metadata": {},
   "outputs": [],
   "source": [
    "flipped_image_no_label = flipped_image * island_mask\n",
    "\n",
    "fig, axs = plt.subplots(1, 4, dpi=200, constrained_layout=True, sharey=True)\n",
    "axs[0].imshow(original_image, 'gray')\n",
    "axs[1].imshow(flipped_image, 'gray')\n",
    "axs[2].imshow(flipped_image_no_label, 'gray')\n",
    "axs[3].imshow(cropped_img, 'gray')\n",
    "axs[0].set_title(\"1.\\nOriginal\")\n",
    "axs[1].set_title(\"2.\\nFlipped\")\n",
    "axs[2].set_title(\"3.\\nLabel Removed\")\n",
    "axs[3].set_title(\"4.\\nFinal Image\")\n",
    "plt.show()"
   ]
  },
  {
   "cell_type": "code",
   "execution_count": null,
   "id": "2610cd23-5f26-4fc0-8552-fac692751d66",
   "metadata": {},
   "outputs": [],
   "source": []
  },
  {
   "cell_type": "markdown",
   "id": "da1e53b0-983d-4ac1-beb7-e0201d6f2271",
   "metadata": {},
   "source": [
    "# 4.5. Saving to PNG"
   ]
  },
  {
   "cell_type": "code",
   "execution_count": null,
   "id": "cfacb4ea-8d5f-455c-ad61-2b4f13750f4f",
   "metadata": {},
   "outputs": [],
   "source": []
  },
  {
   "cell_type": "code",
   "execution_count": null,
   "id": "48eb3ca3-6922-4bdf-8bad-2b7a3f033a9a",
   "metadata": {},
   "outputs": [],
   "source": [
    "# Convert pixel array to PNG as a 16-bit greyscale\n",
    "image_to_save = cropped_img.astype(np.double)\n",
    "\n",
    "# Rescale grey scale between 0-65535\n",
    "image_to_save = (np.maximum(image_to_save, 0) / image_to_save.max()) * 65535.0\n",
    "\n",
    "# Convert to uint16\n",
    "image_to_save = np.uint16(image_to_save)\n",
    "\n",
    "output_png_path = f\"./output/{loaded_dicom.SOPInstanceUID}.png\"\n",
    "\n",
    "if not os.path.exists(\"./output/\"):\n",
    "    os.makedirs(\"./output/\")\n",
    "\n",
    "image = Image.fromarray(image_to_save.astype(np.uint16))\n",
    "image.save(output_png_path)"
   ]
  },
  {
   "cell_type": "code",
   "execution_count": null,
   "id": "d20884dc-e9ee-45fc-8b3b-6e2b061a872d",
   "metadata": {},
   "outputs": [],
   "source": []
  },
  {
   "cell_type": "markdown",
   "id": "7b5d8eb2-3cd4-4c48-8083-8b77f3726c1a",
   "metadata": {},
   "source": [
    "# 4.6. Common Normalization Techniques\n",
    "\n",
    "1. Min-max normalization\n",
    "2. Standardization"
   ]
  },
  {
   "cell_type": "markdown",
   "id": "8f1d0ebe-cb19-43eb-9bda-30ebb0f0ec32",
   "metadata": {},
   "source": [
    "# 4.6.1. Min-Max Normalization"
   ]
  },
  {
   "cell_type": "markdown",
   "id": "73303c1b-00f3-4632-9101-3a3a06eb885b",
   "metadata": {},
   "source": [
    "The most common Min-Max Normalization technique is transforming the pixel distribution between 0 and 1.\n",
    "\n",
    "The steps are as follows:\n",
    "\n",
    "1. Calculate the minimum and maximum pixel values of the image\n",
    "2. Subtract the image with it's minimum value\n",
    "3. Divide the results with the range of pixel values, i.e. Maximum minus Minimum (max - min)"
   ]
  },
  {
   "cell_type": "code",
   "execution_count": null,
   "id": "3b80f64a-dd12-44e2-8027-71466c71bc07",
   "metadata": {},
   "outputs": [],
   "source": [
    "img_max = cropped_img.max()\n",
    "img_min = cropped_img.min()"
   ]
  },
  {
   "cell_type": "code",
   "execution_count": null,
   "id": "9210cb93-6b81-4b6d-85e6-4ad78ffd173b",
   "metadata": {},
   "outputs": [],
   "source": [
    "normalized_img = (cropped_img - img_min) / (img_max - img_min)"
   ]
  },
  {
   "cell_type": "code",
   "execution_count": null,
   "id": "77258a35-e324-4e11-b6e4-d375912335ba",
   "metadata": {},
   "outputs": [],
   "source": [
    "normalized_img.min()"
   ]
  },
  {
   "cell_type": "code",
   "execution_count": null,
   "id": "ed87b5c2-c9b0-4884-8034-4bffd9c4fefa",
   "metadata": {},
   "outputs": [],
   "source": [
    "normalized_img.max()"
   ]
  },
  {
   "cell_type": "code",
   "execution_count": null,
   "id": "74eb558b-8c8d-4556-842a-2321403632fe",
   "metadata": {},
   "outputs": [],
   "source": [
    "print(f\"Cropped Image: (min={cropped_img.min():.2f}, max={cropped_img.max():.2f})\")\n",
    "print(f\"Normalized Image: (min={normalized_img.min():.2f}, max={normalized_img.max():.2f})\")\n",
    "\n",
    "fig, axs = plt.subplots(1, 2, dpi=300, constrained_layout=True, sharey=True)\n",
    "axs[0].imshow(cropped_img, 'gray')\n",
    "axs[1].imshow(normalized_img, 'gray')\n",
    "axs[0].set_title(\"Cropped Image\")\n",
    "axs[1].set_title(\"Normalized Image\")\n",
    "plt.show()"
   ]
  },
  {
   "cell_type": "markdown",
   "id": "27bde5bd-3e5a-4e85-9f0e-4caa43a8466b",
   "metadata": {},
   "source": [
    "# 4.6.2. Standardization\n",
    "\n",
    "The most common standardization technique is transforming the pixel distribution to a mean of zero and a standard deviation of 1 (or unit variance).\n",
    "\n",
    "The steps are as follows:\n",
    "\n",
    "1. Calculate the mean and standard deviation of the image\n",
    "2. Subtract the image with it's mean\n",
    "3. Divide the results with the standard deviation"
   ]
  },
  {
   "cell_type": "code",
   "execution_count": null,
   "id": "6a8cdc11-0291-461c-851a-912ec382f985",
   "metadata": {},
   "outputs": [],
   "source": [
    "img_mean = cropped_img.mean()\n",
    "img_std = cropped_img.std()"
   ]
  },
  {
   "cell_type": "code",
   "execution_count": null,
   "id": "900adc0a-92ad-465a-8be9-59d511af7a00",
   "metadata": {},
   "outputs": [],
   "source": [
    "standard_img = (cropped_img - img_mean) / img_std"
   ]
  },
  {
   "cell_type": "code",
   "execution_count": null,
   "id": "5b40d3b9-e929-43e9-b310-a9322f7cdff3",
   "metadata": {},
   "outputs": [],
   "source": [
    "standard_img.mean()"
   ]
  },
  {
   "cell_type": "code",
   "execution_count": null,
   "id": "cf63f72c-1b56-4fe4-8501-9049c3db9c42",
   "metadata": {},
   "outputs": [],
   "source": [
    "standard_img.std()"
   ]
  },
  {
   "cell_type": "code",
   "execution_count": null,
   "id": "169d8d80-47b9-4443-a5ac-d27077aeaaca",
   "metadata": {},
   "outputs": [],
   "source": [
    "print(f\"Cropped Image: (mean={cropped_img.mean():.2f}, std={cropped_img.std():.2f})\")\n",
    "print(f\"Standardized Image: (mean={standard_img.mean():.2f}, std={standard_img.std():.2f})\")\n",
    "\n",
    "fig, axs = plt.subplots(1, 2, dpi=300, constrained_layout=True, sharey=True)\n",
    "axs[0].imshow(cropped_img, 'gray')\n",
    "axs[1].imshow(standard_img, 'gray')\n",
    "axs[0].set_title(\"Cropped Image\")\n",
    "axs[1].set_title(\"Standardized Image\")\n",
    "plt.show()"
   ]
  },
  {
   "cell_type": "code",
   "execution_count": null,
   "id": "cdc9f476-1139-4a1e-aa38-5e621b99d677",
   "metadata": {},
   "outputs": [],
   "source": []
  },
  {
   "cell_type": "markdown",
   "id": "f6461427-883b-4573-a2a9-fe648beef2ca",
   "metadata": {},
   "source": [
    "# 5. DIGITAL BREAST TOMOSYNTHESIS (DBT)"
   ]
  },
  {
   "cell_type": "code",
   "execution_count": null,
   "id": "06bda7ce-4366-47f6-b67d-820367910997",
   "metadata": {},
   "outputs": [],
   "source": [
    "dbt_files = glob.glob(\"/fsx/embed/summer-school-24/Theo_session/dicoms/dbt/*.dcm\")"
   ]
  },
  {
   "cell_type": "code",
   "execution_count": null,
   "id": "d3a0fe29-815f-4c73-a017-222d2e7385c7",
   "metadata": {},
   "outputs": [],
   "source": [
    "dbt_dcm = pydicom.dcmread(dbt_files[0])"
   ]
  },
  {
   "cell_type": "code",
   "execution_count": null,
   "id": "4f055dd6-f27d-4785-8d14-d40af81fdbc5",
   "metadata": {
    "scrolled": true,
    "tags": []
   },
   "outputs": [],
   "source": [
    "dbt_dcm"
   ]
  },
  {
   "cell_type": "code",
   "execution_count": null,
   "id": "4fe25057-a158-40c5-9035-f46291283069",
   "metadata": {},
   "outputs": [],
   "source": [
    "dbt_image_stack = apply_voi_lut(apply_modality_lut(dbt_dcm.pixel_array, dbt_dcm), dbt_dcm)"
   ]
  },
  {
   "cell_type": "code",
   "execution_count": null,
   "id": "7be361e9-a9eb-471d-8c7a-9f9897c01371",
   "metadata": {
    "scrolled": true,
    "tags": []
   },
   "outputs": [],
   "source": [
    "fig, axs = plt.subplots(6, 7, figsize=(20, 20), sharey=True, sharex=True, tight_layout=True)\n",
    "\n",
    "for i, ax in enumerate(axs.flatten()):\n",
    "    ax.imshow(np.rot90(dbt_image_stack[i], 2), 'gray')\n",
    "    ax.set_axis_off()\n",
    "plt.show()"
   ]
  },
  {
   "cell_type": "code",
   "execution_count": null,
   "id": "f54552f9-b42d-458b-ad31-930682ef35d4",
   "metadata": {},
   "outputs": [],
   "source": [
    "animate_3d_array(np.rot90(dbt_image_stack, 2), vmin=dbt_image_stack.min(), vmax=dbt_image_stack.max())"
   ]
  },
  {
   "cell_type": "markdown",
   "id": "7902fda8-edbf-40e6-a314-3ca0bf093344",
   "metadata": {},
   "source": [
    "## 5.2 Crop DBT"
   ]
  },
  {
   "cell_type": "code",
   "execution_count": null,
   "id": "1d924b4a-ca3b-4bff-a6ed-7463a83f1ec0",
   "metadata": {},
   "outputs": [],
   "source": [
    "dbt_image_stack_sum = dbt_image_stack.sum(0)"
   ]
  },
  {
   "cell_type": "code",
   "execution_count": null,
   "id": "f290b318-7278-4879-bf0d-56ed2ee01960",
   "metadata": {},
   "outputs": [],
   "source": [
    "_, binary_mask = cv2.threshold(dbt_image_stack_sum, np.ptp(dbt_image_stack_sum) * 0.0005 + dbt_image_stack_sum.min(), dbt_image_stack_sum.max(), cv2.THRESH_BINARY)"
   ]
  },
  {
   "cell_type": "code",
   "execution_count": null,
   "id": "aaa8c54e-a752-4204-bfce-cba218c13d55",
   "metadata": {},
   "outputs": [],
   "source": [
    "# Get the area\n",
    "num_labels, labels, stats, _ = cv2.connectedComponentsWithStats(binary_mask.astype(np.uint8), connectivity=8)\n",
    "\n",
    "largest_area = 0\n",
    "label_with_largest_area = None\n",
    "for i in range(1, num_labels):\n",
    "    area = stats[i, cv2.CC_STAT_AREA]\n",
    "    print(\"Label:\", i, \"--> Area:\", area)\n",
    "    if area > largest_area:\n",
    "        largest_area = area\n",
    "        label_with_largest_area = i"
   ]
  },
  {
   "cell_type": "code",
   "execution_count": null,
   "id": "83d16ce6-d674-4bb0-9d48-1a71cb1a9021",
   "metadata": {},
   "outputs": [],
   "source": [
    "island_mask = np.zeros_like(binary_mask.astype(np.uint8))\n",
    "island_mask[labels == label_with_largest_area] = 1"
   ]
  },
  {
   "cell_type": "code",
   "execution_count": null,
   "id": "e56c4186-729e-4b19-acff-d2ba786017e6",
   "metadata": {},
   "outputs": [],
   "source": [
    "def crop_zeros(image, img_mask_, get_coords=True):\n",
    "    points = np.argwhere(img_mask_.sum(axis=0))\n",
    "    left_boundary = points.min()\n",
    "    right_boundary = points.max()\n",
    "    \n",
    "    points = np.argwhere(img_mask_.sum(axis=1))\n",
    "    top_boundary = points.min()\n",
    "    bottom_boundary = points.max()\n",
    "\n",
    "    if get_coords:\n",
    "        return image[top_boundary:bottom_boundary, left_boundary: right_boundary], (top_boundary, bottom_boundary, left_boundary, right_boundary)\n",
    "    else:\n",
    "        return image[top_boundary:bottom_boundary, left_boundary: right_boundary]"
   ]
  },
  {
   "cell_type": "code",
   "execution_count": null,
   "id": "187e2c1a-464a-45a2-b402-5cbb673abe83",
   "metadata": {},
   "outputs": [],
   "source": [
    "dbt_cropped_image, dbt_coords = crop_zeros(dbt_image_stack_sum, island_mask)"
   ]
  },
  {
   "cell_type": "code",
   "execution_count": null,
   "id": "97c9736c-d09d-48d6-b613-1e4618edd866",
   "metadata": {},
   "outputs": [],
   "source": [
    "dbt_image_stack_cropped = dbt_image_stack[:, dbt_coords[0]:dbt_coords[1], dbt_coords[2]:dbt_coords[3]]"
   ]
  },
  {
   "cell_type": "code",
   "execution_count": null,
   "id": "98a4aa35-73b7-45a2-a6fd-f5070fed6c0b",
   "metadata": {
    "scrolled": true,
    "tags": []
   },
   "outputs": [],
   "source": [
    "fig, axs = plt.subplots(6, 7, figsize=(20, 20), sharey=True, sharex=True, tight_layout=True)\n",
    "\n",
    "for i, ax in enumerate(axs.flatten()):\n",
    "    ax.imshow(np.rot90(dbt_image_stack_cropped[i], 2), 'gray')\n",
    "    ax.set_axis_off()\n",
    "plt.show()"
   ]
  },
  {
   "cell_type": "code",
   "execution_count": null,
   "id": "07dbf35e-2c6e-4b80-8a11-b15e7b52cfcd",
   "metadata": {},
   "outputs": [],
   "source": [
    "animate_3d_array(np.rot90(dbt_image_stack_cropped, 2), vmin=dbt_image_stack_cropped.min(), vmax=dbt_image_stack_cropped.max())"
   ]
  },
  {
   "cell_type": "code",
   "execution_count": null,
   "id": "b13c9504-6ab8-4815-bded-b26f6efc59d5",
   "metadata": {},
   "outputs": [],
   "source": []
  },
  {
   "cell_type": "markdown",
   "id": "e43a794e-9ae9-4b9b-aad9-70cac23b35d6",
   "metadata": {},
   "source": [
    "# 6. MRI"
   ]
  },
  {
   "cell_type": "code",
   "execution_count": null,
   "id": "56cad121-6517-4bd5-a057-6cc31d3a296d",
   "metadata": {},
   "outputs": [],
   "source": [
    "mri_sample = pd.read_csv(\"/fsx/embed/summer-school-24/Theo_session/tables/mri_sample_df.csv\")"
   ]
  },
  {
   "cell_type": "code",
   "execution_count": null,
   "id": "71fc378d-636a-400f-9914-70c87cc1e1c2",
   "metadata": {},
   "outputs": [],
   "source": [
    "mri_sample.StudyDescription.value_counts(dropna=False)"
   ]
  },
  {
   "cell_type": "code",
   "execution_count": null,
   "id": "4602cbd6-9315-400c-9164-c09928fca2b9",
   "metadata": {},
   "outputs": [],
   "source": [
    "mri_sample.SeriesDescription.value_counts(dropna=False)"
   ]
  },
  {
   "cell_type": "code",
   "execution_count": null,
   "id": "a8c5b82a-59dc-4aab-a069-c81f029cc995",
   "metadata": {},
   "outputs": [],
   "source": [
    "mri_sample_axial = mri_sample[mri_sample.SeriesDescription==\"AX VIBRANT DYNAMIC\"]"
   ]
  },
  {
   "cell_type": "code",
   "execution_count": null,
   "id": "6854771f-b192-4e60-94f3-c8fd9e261bef",
   "metadata": {},
   "outputs": [],
   "source": [
    "mri_sample_axial = mri_sample_axial.sort_values([\"InstanceNumber\"])"
   ]
  },
  {
   "cell_type": "code",
   "execution_count": null,
   "id": "da2c5acd-6587-4b89-a0a4-8aa5a6205477",
   "metadata": {
    "tags": []
   },
   "outputs": [],
   "source": [
    "loaded_mri_dicoms = []\n",
    "for dcm_path in tqdm(mri_sample_axial[\"anon_dicom_path\"]):\n",
    "    # print(dcm_path)\n",
    "    loaded_mri_dicoms.append(pydicom.dcmread(dcm_path))"
   ]
  },
  {
   "cell_type": "code",
   "execution_count": null,
   "id": "37d61f0f-ff46-4186-8ed2-4c1775a1d20d",
   "metadata": {},
   "outputs": [],
   "source": [
    "pixel_spacing = loaded_mri_dicoms[0].PixelSpacing\n",
    "slice_thickness = loaded_mri_dicoms[0].SliceThickness"
   ]
  },
  {
   "cell_type": "code",
   "execution_count": null,
   "id": "46fb4aae-ac83-41f8-9bd0-cda76fbefe2d",
   "metadata": {},
   "outputs": [],
   "source": [
    "ax_aspect = pixel_spacing[1]/pixel_spacing[0]\n",
    "sag_aspect = slice_thickness/pixel_spacing[0]\n",
    "cor_aspect = slice_thickness/pixel_spacing[1]"
   ]
  },
  {
   "cell_type": "code",
   "execution_count": null,
   "id": "71c4eb37-632b-431b-8c59-3537414db479",
   "metadata": {
    "tags": []
   },
   "outputs": [],
   "source": [
    "images = np.zeros((len(loaded_mri_dicoms), loaded_mri_dicoms[0].Rows, loaded_mri_dicoms[0].Columns))"
   ]
  },
  {
   "cell_type": "code",
   "execution_count": null,
   "id": "01ba2a78-7e7f-4c66-9bd9-cf24897b5ee9",
   "metadata": {},
   "outputs": [],
   "source": [
    "for i, dcm_ in enumerate(loaded_mri_dicoms):\n",
    "    images[i] = process_dicom_image(dcm_)"
   ]
  },
  {
   "cell_type": "code",
   "execution_count": null,
   "id": "246c2d2e-7860-4dac-bb2d-96e8e68af5f1",
   "metadata": {},
   "outputs": [],
   "source": [
    "images_coronal = images.transpose((1, 0, 2))\n",
    "images_sagital = images.transpose((2, 0, 1))"
   ]
  },
  {
   "cell_type": "code",
   "execution_count": null,
   "id": "f2114fd1-6108-456a-bc86-c3da7ed0646b",
   "metadata": {
    "scrolled": true,
    "tags": []
   },
   "outputs": [],
   "source": [
    "fig, axs = plt.subplots(10, 5, figsize=(20, 40), sharey=True, sharex=True, tight_layout=True)\n",
    "fig.suptitle(\"Axial\", fontsize=24)\n",
    "starting_slice = 30\n",
    "skip_slice = 0\n",
    "for i, ax in enumerate(axs.flatten()):\n",
    "    ax.imshow(np.rot90(images[starting_slice+i+i*skip_slice], 2), 'gray', vmin=np.iinfo(np.int16).min, vmax=np.iinfo(np.int16).max)\n",
    "    ax.set_aspect(ax_aspect)\n",
    "    ax.set_axis_off()\n",
    "plt.show()"
   ]
  },
  {
   "cell_type": "code",
   "execution_count": null,
   "id": "c186db4a-08ff-445c-8e9b-d34593a21d6a",
   "metadata": {},
   "outputs": [],
   "source": [
    "animate_3d_array(np.rot90(images, 2))"
   ]
  },
  {
   "cell_type": "code",
   "execution_count": null,
   "id": "0585aca5-4eff-4843-82cc-699cef3da989",
   "metadata": {},
   "outputs": [],
   "source": []
  },
  {
   "cell_type": "code",
   "execution_count": null,
   "id": "ae0a1f45-d0ec-4a8b-9478-ea042116f628",
   "metadata": {
    "scrolled": true,
    "tags": []
   },
   "outputs": [],
   "source": [
    "fig, axs = plt.subplots(10, 5, figsize=(20, 40), sharey=True, sharex=True, tight_layout=True)\n",
    "starting_slice = 90\n",
    "skip_slice = 2\n",
    "for i, ax in enumerate(axs.flatten()):\n",
    "    ax.imshow(np.rot90(images_coronal[starting_slice+i+i*skip_slice], 2), 'gray', vmin=np.iinfo(np.int16).min, vmax=np.iinfo(np.int16).max)\n",
    "    ax.set_aspect(cor_aspect)\n",
    "    ax.set_axis_off()\n",
    "plt.show()"
   ]
  },
  {
   "cell_type": "code",
   "execution_count": null,
   "id": "c476bc1f-539c-4d6b-a7ef-16e24f560cbd",
   "metadata": {},
   "outputs": [],
   "source": [
    "images_coronal_fliplr_flip_ud = np.flipud(np.fliplr(images_coronal[:240]))"
   ]
  },
  {
   "cell_type": "code",
   "execution_count": null,
   "id": "2295a3a1-dbd4-4922-bc79-612cb6971647",
   "metadata": {},
   "outputs": [],
   "source": [
    "animate_3d_array(images_coronal_fliplr_flip_ud, aspect_ratio=cor_aspect)"
   ]
  },
  {
   "cell_type": "code",
   "execution_count": null,
   "id": "bf0a2d24-f0dc-4041-bb57-79fe2feb823e",
   "metadata": {},
   "outputs": [],
   "source": []
  },
  {
   "cell_type": "code",
   "execution_count": null,
   "id": "6e9bc870-3745-45d2-8ac8-b9f304ee0f18",
   "metadata": {
    "tags": []
   },
   "outputs": [],
   "source": [
    "fig, axs = plt.subplots(10, 5, figsize=(20, 40), sharey=True, sharex=True, tight_layout=True)\n",
    "starting_slice = 100\n",
    "skip_slice = 5\n",
    "for i, ax in enumerate(axs.flatten()):\n",
    "    ax.imshow(np.rot90(images_sagital[starting_slice+i+i*skip_slice], 2), 'gray', vmin=np.iinfo(np.int16).min, vmax=np.iinfo(np.int16).max)\n",
    "    ax.set_aspect(sag_aspect)\n",
    "    ax.set_axis_off()\n",
    "plt.show()"
   ]
  },
  {
   "cell_type": "code",
   "execution_count": null,
   "id": "f33dd164-294d-4139-b674-6c9d106909d9",
   "metadata": {},
   "outputs": [],
   "source": [
    "animate_3d_array(np.rot90(images_sagital, 2), aspect_ratio=sag_aspect)"
   ]
  },
  {
   "cell_type": "code",
   "execution_count": null,
   "id": "a1b849ea-18de-4e5d-abca-a79824fa6e03",
   "metadata": {},
   "outputs": [],
   "source": []
  },
  {
   "cell_type": "markdown",
   "id": "7d870bd7-5be0-48a4-a379-16a8f644660b",
   "metadata": {
    "tags": []
   },
   "source": [
    "### ☢️ ***Exercise 4***\n",
    "\n",
    "Load and visualize a true SAGITAL series.\n",
    "\n",
    "What main differences do you see compared with the resliced Sagital view above?"
   ]
  },
  {
   "cell_type": "code",
   "execution_count": null,
   "id": "62a9d75f-e243-4baa-bace-e682284bd458",
   "metadata": {},
   "outputs": [],
   "source": [
    "# Code your solution here"
   ]
  }
 ],
 "metadata": {
  "kernelspec": {
   "display_name": "pandas",
   "language": "python",
   "name": "pandas"
  },
  "language_info": {
   "codemirror_mode": {
    "name": "ipython",
    "version": 3
   },
   "file_extension": ".py",
   "mimetype": "text/x-python",
   "name": "python",
   "nbconvert_exporter": "python",
   "pygments_lexer": "ipython3",
   "version": "3.11.9"
  }
 },
 "nbformat": 4,
 "nbformat_minor": 5
}
