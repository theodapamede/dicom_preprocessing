{
 "cells": [
  {
   "cell_type": "markdown",
   "id": "fc4cb6dc-4906-45c8-a647-713de801c68f",
   "metadata": {},
   "source": [
    "<img src=\"figures/hiti.png\" alt=\"HITILab\" width=\"150\"/>\n",
    "\n",
    "<!-- Author: Theo Dapamede, MD, PhD -->\n",
    "<!-- Github: theodapamede -->"
   ]
  },
  {
   "cell_type": "markdown",
   "id": "b1641cab-c092-4f7e-8ed6-582d173890de",
   "metadata": {
    "jp-MarkdownHeadingCollapsed": true
   },
   "source": [
    "# CXR: Data Preprocessing\n",
    "\n",
    "By going through this lecture and notebook, you should be able to:\n",
    "\n",
    "1. Understand the basics of working with DICOM files\n",
    "2. Open and display a DICOM image using Python\n",
    "3. Perform standard DICOM image preprocessing techniques\n",
    "4. Understand 2 different normalization techniques"
   ]
  },
  {
   "cell_type": "markdown",
   "id": "89547388-5f46-4e00-8e86-5b797d8da03d",
   "metadata": {},
   "source": [
    "# 0. Load Libraries and Prepare Environment"
   ]
  },
  {
   "cell_type": "code",
   "execution_count": null,
   "id": "6f2d45ac-b65c-4da8-9b36-4fd0ac1b7ec3",
   "metadata": {},
   "outputs": [],
   "source": [
    "import os\n",
    "import glob\n",
    "import cv2\n",
    "import pandas as pd\n",
    "import numpy as np\n",
    "import matplotlib.pyplot as plt\n",
    "from PIL import Image\n",
    "import tqdm"
   ]
  },
  {
   "cell_type": "markdown",
   "id": "2e74f4aa-bb62-4a47-b5ef-6b4043bc8fbf",
   "metadata": {},
   "source": [
    "# 1. Basics of working with DICOM Files"
   ]
  },
  {
   "cell_type": "markdown",
   "id": "c1b8d674-2e76-4ed5-a796-dedaae6b9386",
   "metadata": {},
   "source": [
    "## 1.1. Opening a DICOM File"
   ]
  },
  {
   "cell_type": "markdown",
   "id": "d3570c5d-d378-41b9-ba78-0295061298b4",
   "metadata": {},
   "source": [
    "We will be using the Pydicom library. \n",
    "\n",
    "For more information regarding Pydicom:\n",
    "[Pydicom Userguide](https://pydicom.github.io/pydicom/stable/old/pydicom_user_guide.html)"
   ]
  },
  {
   "cell_type": "code",
   "execution_count": null,
   "id": "a3812284-e929-4b41-aa6f-d1372c489bf2",
   "metadata": {},
   "outputs": [],
   "source": [
    "import pydicom"
   ]
  },
  {
   "cell_type": "code",
   "execution_count": null,
   "id": "0d784edd-2849-4ea0-9a8e-84ae3bfde44c",
   "metadata": {},
   "outputs": [],
   "source": [
    "# Sample a dicom file for example purposes\n",
    "dicom_file = \"/fsx/embed/summer-school-24/Theo_session/dicoms/cxr_sample/1.2.826.0.1.3680043.8.498.12497993392562429345008417030462807206.dcm\""
   ]
  },
  {
   "cell_type": "code",
   "execution_count": null,
   "id": "ed462c6c-fbcb-43a3-9bcc-741547da393c",
   "metadata": {},
   "outputs": [],
   "source": [
    "loaded_dicom = pydicom.dcmread(dicom_file)"
   ]
  },
  {
   "cell_type": "code",
   "execution_count": null,
   "id": "cd8f21d5-46e3-4c10-816a-38ccff0a8a54",
   "metadata": {
    "tags": []
   },
   "outputs": [],
   "source": [
    "# DICOM Tags --> in parentheses (xxxx, xxxx)\n",
    "# Followed by DICOM Tag name; Value Representation; Value\n",
    "loaded_dicom"
   ]
  },
  {
   "cell_type": "code",
   "execution_count": null,
   "id": "765c5eeb-5e2e-4c9e-9dd4-c0403cb69afb",
   "metadata": {},
   "outputs": [],
   "source": [
    "# Get information using Tag --> treat as hexadeximal number by using 0x in front\n",
    "print(loaded_dicom[0x0010, 0x0020])"
   ]
  },
  {
   "cell_type": "code",
   "execution_count": null,
   "id": "93ac0db9-41a6-4a06-affe-574f4af4a37a",
   "metadata": {},
   "outputs": [],
   "source": [
    "# Getting Tag Keyword using .keyword\n",
    "print(loaded_dicom[0x0010, 0x0020].keyword)"
   ]
  },
  {
   "cell_type": "code",
   "execution_count": null,
   "id": "91c56fb1-4367-468e-af51-b73028ca941d",
   "metadata": {},
   "outputs": [],
   "source": [
    "# Getting information using Tag Name\n",
    "print(loaded_dicom[\"PatientID\"])"
   ]
  },
  {
   "cell_type": "code",
   "execution_count": null,
   "id": "65e4b673-a70b-4b4b-8e27-c59ab612ab56",
   "metadata": {},
   "outputs": [],
   "source": [
    "# Getting Tag Name using .tag\n",
    "print(loaded_dicom[\"PatientID\"].tag)"
   ]
  },
  {
   "cell_type": "code",
   "execution_count": null,
   "id": "cf564ced-ae93-4287-8c60-d16cf8b114a6",
   "metadata": {},
   "outputs": [],
   "source": [
    "# Getting Tag Name using .name\n",
    "print(loaded_dicom[\"PatientID\"].name)"
   ]
  },
  {
   "cell_type": "code",
   "execution_count": null,
   "id": "1ee16b32-2ca3-4d01-8ee7-7426b6495402",
   "metadata": {},
   "outputs": [],
   "source": [
    "# Getting Tag Value\n",
    "print(loaded_dicom[\"PatientID\"].value)"
   ]
  },
  {
   "cell_type": "code",
   "execution_count": null,
   "id": "4c73e385-4d51-481e-b8d7-9680a5101f8f",
   "metadata": {},
   "outputs": [],
   "source": [
    "# Another way to get value\n",
    "print(loaded_dicom.PatientID)"
   ]
  },
  {
   "cell_type": "markdown",
   "id": "243b13f1-bff1-4841-b9b3-13d6fc2697f4",
   "metadata": {},
   "source": [
    "### ☢️ ***Exercise 1***\n",
    "\n",
    "Print the following values:\n",
    "\n",
    "1. **Exposure**"
   ]
  },
  {
   "cell_type": "code",
   "execution_count": null,
   "id": "a4c56f50-72f2-4f99-84fe-0fa5057c6cba",
   "metadata": {},
   "outputs": [],
   "source": [
    "# Code your solution here"
   ]
  },
  {
   "cell_type": "markdown",
   "id": "b14ef9b3-ba3a-48eb-9abd-ace36b15310a",
   "metadata": {},
   "source": [
    "2. **Manufacturer**"
   ]
  },
  {
   "cell_type": "code",
   "execution_count": null,
   "id": "05f9668d-fd3b-4293-893e-b53b9d1c3af2",
   "metadata": {},
   "outputs": [],
   "source": [
    "# Code your solution here"
   ]
  },
  {
   "cell_type": "markdown",
   "id": "c48cbf78-ece8-4f7a-b4b7-d039418a3fba",
   "metadata": {},
   "source": [
    "3. **SOP Instance UID**"
   ]
  },
  {
   "cell_type": "code",
   "execution_count": null,
   "id": "4d9450a6-e7d4-444b-93fa-9773477892c1",
   "metadata": {},
   "outputs": [],
   "source": [
    "# Code your solution here"
   ]
  },
  {
   "cell_type": "markdown",
   "id": "3422af08-a8f5-4d54-b6dc-d172df342b1d",
   "metadata": {},
   "source": [
    "### ☢️ ***Exercise 2***\n",
    "Find one example of a DICOM tag that contains non-alphanumeric characters (\", ', -, ...) and get the value using it's keyword."
   ]
  },
  {
   "cell_type": "code",
   "execution_count": null,
   "id": "72f05539-521f-4870-9db2-e767ad3fe576",
   "metadata": {},
   "outputs": [],
   "source": [
    "# Code your solution here"
   ]
  },
  {
   "cell_type": "code",
   "execution_count": null,
   "id": "bc67bbe3-f482-4993-94b7-f18e59b8b3a2",
   "metadata": {},
   "outputs": [],
   "source": []
  },
  {
   "cell_type": "markdown",
   "id": "47369dbf-1994-4578-8e1b-3fcfc8e02985",
   "metadata": {},
   "source": [
    "### 1.2. DICOM Image\n",
    "\n",
    "In a DICOM file, the image is stored in the **Pixel Data [7fe0, 0010]** tag."
   ]
  },
  {
   "cell_type": "code",
   "execution_count": null,
   "id": "22cd47f5-1e00-4b35-b5af-65e74070c713",
   "metadata": {},
   "outputs": [],
   "source": [
    "print(loaded_dicom[0x7FE0,0x0010])"
   ]
  },
  {
   "cell_type": "code",
   "execution_count": null,
   "id": "bb4bfa62-2e75-4681-b926-137f77b6c40e",
   "metadata": {},
   "outputs": [],
   "source": [
    "print(loaded_dicom[0x7FE0,0x0010].keyword)"
   ]
  },
  {
   "cell_type": "markdown",
   "id": "d80f40e8-bc3b-4820-8030-08155a364578",
   "metadata": {},
   "source": [
    "**PixelData** is often not immediately useful as data may be stored in a variety of different ways:\n",
    "\n",
    "- The pixel values may be signed or unsigned integers, or floats\n",
    "- There may be multiple image frames\n",
    "- There may be multiple planes per frame (i.e. RGB) and the order of the pixels may be different\n",
    "- The image data may be encoded using one of the available compression standards (1.2.840.10008.1.2.4.50 JPEG Baseline, 1.2.840.10008.1.2.5 RLE Lossless, etc). Encoded image data will also be encapsulated and each encapsulated image frame may be broken up into one or more fragments.\n",
    "\n",
    "*Note: May cause slow response when running:*\n",
    "```loaded_dicom.PixelData```\n",
    "\n",
    "See image below for output example\n",
    "\n",
    "![loaded_dicom.PixelData](figures/fig_dicom_pixel_data.png \"loaded_dicom.PixelData\")"
   ]
  },
  {
   "cell_type": "markdown",
   "id": "a3077ec5-b06f-46d3-a596-09c0d1f4c2b0",
   "metadata": {},
   "source": [
    "Because of the complexity in interpreting the pixel data, pydicom provides an easy way to get it in a convenient form: **.pixel_array**"
   ]
  },
  {
   "cell_type": "code",
   "execution_count": null,
   "id": "2777b55f-474b-4b81-a280-22a95decc3a6",
   "metadata": {},
   "outputs": [],
   "source": [
    "loaded_dicom.pixel_array"
   ]
  },
  {
   "cell_type": "code",
   "execution_count": null,
   "id": "49fdf270-887e-4ffc-8e60-5ad815ffcaf4",
   "metadata": {},
   "outputs": [],
   "source": [
    "image = loaded_dicom.pixel_array"
   ]
  },
  {
   "cell_type": "code",
   "execution_count": null,
   "id": "1dfb55f0-7265-40fe-b79a-c1c9cc96b7c6",
   "metadata": {},
   "outputs": [],
   "source": [
    "print(image.shape)  # (Height, Width)"
   ]
  },
  {
   "cell_type": "code",
   "execution_count": null,
   "id": "862cfa4a-1795-490a-a637-52760a44afdd",
   "metadata": {},
   "outputs": [],
   "source": [
    "image.min()"
   ]
  },
  {
   "cell_type": "code",
   "execution_count": null,
   "id": "08f66ae6-9981-4452-abe4-bd602c3cd9dd",
   "metadata": {},
   "outputs": [],
   "source": [
    "image.max()"
   ]
  },
  {
   "cell_type": "markdown",
   "id": "2a4bac47-975d-4cc0-a14d-babe06d2390d",
   "metadata": {},
   "source": [
    "### 1.3. View a DICOM Image"
   ]
  },
  {
   "cell_type": "code",
   "execution_count": null,
   "id": "f7611714-7ce8-42c0-8e49-bc2610522095",
   "metadata": {},
   "outputs": [],
   "source": [
    "plt.figure(dpi=150)\n",
    "plt.imshow(image, 'gray')\n",
    "plt.show()"
   ]
  },
  {
   "cell_type": "code",
   "execution_count": null,
   "id": "f18e8a4d-9c83-4413-ae92-891fa5946780",
   "metadata": {},
   "outputs": [],
   "source": []
  },
  {
   "cell_type": "markdown",
   "id": "5291a1c0-a3a3-4443-9150-d9c9f0d8bcb9",
   "metadata": {},
   "source": [
    "# 2. DICOM Image Preprocessing"
   ]
  },
  {
   "cell_type": "markdown",
   "id": "473bed7a-ef64-409f-9cf9-765537a96c84",
   "metadata": {},
   "source": [
    "## 2.1. Modality Specific Units\n",
    "\n",
    "Modality-specific units are standardized measurement units used in different imaging modalities to quantify and interpret the image data.\n",
    "For example, the modality-specific units for CT is Hounsfield Units (HU) (water = 0 HU).\n",
    "\n",
    "In plain radiography, the units are in **optical density** for radiographic films and **pixel values** for digital radiography.\n",
    "\n",
    "The range of pixel values in an image is determined by the **Bit Depth** of the imaging system (see Table).\n",
    "If the minimum is 0, the maximum value is calculate as $2^B - 1$, where $B$ is the bit depth. For for example, a 12-bit system will have a maximum pixel value of $2^{12}-1=4095$.\n",
    "What this means is that a 12-bit system will have 4095 shades of gray. The higher the bit depth, the higher the constrast resolution and dynamic range.\n",
    "\n",
    "\n",
    "| System Bit Depth | Minimum Value | Maximum Value |\n",
    "| ---------------- | ------------- | ------------- |\n",
    "| 12-bit | 0 | 4,095 |\n",
    "| 14-bit | 0 | 16,333 |\n",
    "| 16-bit | 0 | 65,535 |"
   ]
  },
  {
   "cell_type": "markdown",
   "id": "87b08b47-7bb0-48af-bb7c-c124954d2fb8",
   "metadata": {},
   "source": [
    "### ☢️ ***Excercise 3***\n",
    "\n",
    "What is the bit depth of your loaded dicom image?"
   ]
  },
  {
   "cell_type": "code",
   "execution_count": null,
   "id": "fb843b54-9d57-4900-958a-79cfea18819a",
   "metadata": {},
   "outputs": [],
   "source": [
    "# Code your solution here"
   ]
  },
  {
   "cell_type": "code",
   "execution_count": null,
   "id": "3bc6531b-bfed-45f5-be5f-bf4dc1855014",
   "metadata": {},
   "outputs": [],
   "source": []
  },
  {
   "cell_type": "markdown",
   "id": "bef9e085-cc3d-4107-a312-4a1851dd1a2a",
   "metadata": {},
   "source": [
    "# 2.1. Presentation State\n",
    "\n",
    "### 2.1.1. Applying Modality Transforms\n",
    "The raw Pixel Data in a DICOM file may not be in the modality units. Therefore, we first need to apply a modality transformation to standardize the units.\n",
    "\n",
    "There are 2 ways of transforming the values:\n",
    "1. Using the Rescale Intercept and Rescale Slope\n",
    "We apply the Rescale Slope and Intercept using the following equation:\n",
    "\n",
    "$$\\text{Output Value} = m \\cdot \\text{Stored Value} + b$$\n",
    "\n",
    "where *m* is the Rescale Slope and *b* is the Rescale Intercept\n",
    "\n",
    "2. Using the Modality LUT\n",
    "This method uses a Look Up Table which will specify what a pixel value will be transformed into.\n",
    "\n",
    "In a DICOM file, only one of the above method is available."
   ]
  },
  {
   "cell_type": "code",
   "execution_count": null,
   "id": "c6fe3317-f6f6-4ae2-b79c-94416eb69ea7",
   "metadata": {},
   "outputs": [],
   "source": [
    "from pydicom.pixel_data_handlers import apply_modality_lut, apply_voi_lut"
   ]
  },
  {
   "cell_type": "code",
   "execution_count": null,
   "id": "ac5b01ac-e7f5-413a-b33e-3dd3d07b1583",
   "metadata": {},
   "outputs": [],
   "source": [
    "rescale_slope = loaded_dicom.RescaleSlope\n",
    "print(rescale_slope)"
   ]
  },
  {
   "cell_type": "code",
   "execution_count": null,
   "id": "a202f115-af36-4ea3-94c4-ece5147fff0c",
   "metadata": {},
   "outputs": [],
   "source": [
    "rescale_intercept = loaded_dicom.RescaleIntercept\n",
    "print(rescale_intercept)"
   ]
  },
  {
   "cell_type": "markdown",
   "id": "db63255c-b0d7-4133-ba32-728c7af38723",
   "metadata": {},
   "source": [
    "### Try using manual `modality_transform` function"
   ]
  },
  {
   "cell_type": "code",
   "execution_count": null,
   "id": "91fcea0b-ab2e-45f4-a334-46f1574cc247",
   "metadata": {},
   "outputs": [],
   "source": [
    "def modality_transform(img, dcm):\n",
    "    return dcm.RescaleSlope * img + dcm.RescaleIntercept"
   ]
  },
  {
   "cell_type": "code",
   "execution_count": null,
   "id": "a4f7f79e-4505-4438-8607-64758aa18bfd",
   "metadata": {},
   "outputs": [],
   "source": [
    "output_image = modality_transform(image, loaded_dicom)"
   ]
  },
  {
   "cell_type": "code",
   "execution_count": null,
   "id": "8cfd9340-edda-4f5d-b5e1-95f19ae5acaa",
   "metadata": {},
   "outputs": [],
   "source": [
    "np.all(output_image==image)"
   ]
  },
  {
   "cell_type": "code",
   "execution_count": null,
   "id": "5a03b511-336d-4d36-85bc-34d69aeb7f52",
   "metadata": {},
   "outputs": [],
   "source": []
  },
  {
   "cell_type": "markdown",
   "id": "f70f16cf-c65c-4978-8b84-7bdbe7840199",
   "metadata": {},
   "source": [
    "### CT Scan Example"
   ]
  },
  {
   "cell_type": "code",
   "execution_count": null,
   "id": "3fc7ca19-e116-4faf-a3ae-698b699facc0",
   "metadata": {},
   "outputs": [],
   "source": [
    "example_ct = glob.glob('/fsx/embed/summer-school-24/Theo_session/dicoms/ct_scan_sample/*.dcm')"
   ]
  },
  {
   "cell_type": "code",
   "execution_count": null,
   "id": "47529b75-6e6b-4a00-a799-05b1e7fb2b2f",
   "metadata": {},
   "outputs": [],
   "source": [
    "other_shape = []\n",
    "axial = {}\n",
    "axial_lut = {}\n",
    "axial_full = {}\n",
    "for i, dicom_file in tqdm.tqdm(enumerate(example_ct)):\n",
    "    dcm_ = pydicom.dcmread(dicom_file)\n",
    "    # print(dcm_.InstanceNumber)\n",
    "    # img_lut = apply_voi_lut(apply_modality_lut(dcm_.pixel_array, dcm_), dcm_)\n",
    "    img_lut = modality_transform(dcm_.pixel_array, dcm_)\n",
    "    img_full = apply_voi_lut(apply_modality_lut(dcm_.pixel_array, dcm_), dcm_)\n",
    "    img_ = dcm_.pixel_array\n",
    "    if img_.shape[0] == 512:\n",
    "        # image_stack[dcm_.InstanceNumber] = img_\n",
    "        # image_stack_lut[dcm_.InstanceNumber] = img_lut\n",
    "        if dcm_.SeriesDescription == 'AX BRAIN THIN':\n",
    "            axial[dcm_.InstanceNumber] = img_\n",
    "            axial_lut[dcm_.InstanceNumber] = img_lut\n",
    "            axial_full[dcm_.InstanceNumber] = img_full\n",
    "    else:\n",
    "        other_shape.append(img_)\n",
    "        \n",
    "axial_sorted = dict(sorted(axial.items()))\n",
    "axial_stack = np.array(list(axial_sorted.values()))\n",
    "\n",
    "axial_lut_sorted = dict(sorted(axial_lut.items()))\n",
    "axial_stack_lut = np.array(list(axial_lut_sorted.values()))\n",
    "\n",
    "axial_full_sorted = dict(sorted(axial_full.items()))\n",
    "axial_stack_lut_full = np.array(list(axial_full_sorted.values()))"
   ]
  },
  {
   "cell_type": "code",
   "execution_count": null,
   "id": "31a550f0-b4c9-4a79-84f4-26d51204e16e",
   "metadata": {},
   "outputs": [],
   "source": [
    "for i in range(0, axial_stack.shape[0], 100):\n",
    "    \n",
    "    print(f\"Original Image Min Value = {axial_stack[i].min()}\")\n",
    "    print(f\"Original Image Max Value = {axial_stack[i].max()}\")\n",
    "\n",
    "    print(f\"Modality Transformed Min Value = {axial_stack_lut[i].min()}\")\n",
    "    print(f\"Modality Transformed Max Value = {axial_stack_lut[i].max()}\")\n",
    "\n",
    "    fig, axs = plt.subplots(1, 2, dpi=150)\n",
    "    axs[0].imshow(axial_stack[i], 'gray')\n",
    "    axs[1].imshow(axial_stack_lut[i], 'gray')\n",
    "    # axs[2].imshow(axial_stack_lut[i] - axial_stack[i], 'gray')\n",
    "    axs[0].set_title(\"Original\")\n",
    "    axs[1].set_title(\"Modality Transformed\")\n",
    "    # axs[2].set_title(\"Modality Transformed - Original\")\n",
    "    for i, ax in enumerate(axs):\n",
    "        ax.axis('off')\n",
    "    plt.show()"
   ]
  },
  {
   "cell_type": "markdown",
   "id": "2b6f65bd-dadd-4db7-9e1f-ca6e38097aa2",
   "metadata": {},
   "source": [
    "### 2.1.2. Applying the VOI LUT\n",
    "\n",
    "![VOI LUT](./figures/voi_lut.png)"
   ]
  },
  {
   "cell_type": "code",
   "execution_count": null,
   "id": "47568cde-0e33-4cb9-9325-b51407f81a00",
   "metadata": {},
   "outputs": [],
   "source": [
    "loaded_dicom.WindowCenter"
   ]
  },
  {
   "cell_type": "code",
   "execution_count": null,
   "id": "fdf78429-af38-4ba7-8d64-d88213b9b12c",
   "metadata": {},
   "outputs": [],
   "source": [
    "loaded_dicom.WindowWidth"
   ]
  },
  {
   "cell_type": "code",
   "execution_count": null,
   "id": "7e2358b9-d657-47ab-b970-28af5b860d76",
   "metadata": {},
   "outputs": [],
   "source": [
    "loaded_dicom.VOILUTSequence[0]"
   ]
  },
  {
   "cell_type": "code",
   "execution_count": null,
   "id": "6a903001-7e7d-4d7b-a795-99f7f175f710",
   "metadata": {},
   "outputs": [],
   "source": [
    "for i in range(len(loaded_dicom.VOILUTSequence)):\n",
    "    print(loaded_dicom.VOILUTSequence[i].LUTExplanation)"
   ]
  },
  {
   "cell_type": "code",
   "execution_count": null,
   "id": "66fa90ad-91cf-4f13-ba99-312f70bc6844",
   "metadata": {},
   "outputs": [],
   "source": [
    "plt.plot(loaded_dicom.VOILUTSequence[0].LUTData)\n",
    "plt.show()"
   ]
  },
  {
   "cell_type": "code",
   "execution_count": null,
   "id": "307628a1-09f0-43f4-b923-52db3086cf94",
   "metadata": {},
   "outputs": [],
   "source": []
  },
  {
   "cell_type": "markdown",
   "id": "fa6e781c-550f-43d7-aeaa-1cbc34eea8a1",
   "metadata": {},
   "source": [
    "### **Creating a general function `process_dicom_image`**"
   ]
  },
  {
   "cell_type": "code",
   "execution_count": null,
   "id": "cabcf607-55e2-4bc7-8563-92a6ae305cdd",
   "metadata": {},
   "outputs": [],
   "source": [
    "def process_dicom_image(dicom):\n",
    "    return apply_voi_lut(apply_modality_lut(dicom.pixel_array, dicom), dicom)"
   ]
  },
  {
   "cell_type": "code",
   "execution_count": null,
   "id": "6c7d00f1-b1f1-45f5-9e24-48dc6c3307bc",
   "metadata": {
    "tags": []
   },
   "outputs": [],
   "source": [
    "for i in range(0, axial_stack.shape[0], 100):\n",
    "    fig, axs = plt.subplots(1, 3, dpi=150)\n",
    "    axs[0].imshow(axial_stack[i], 'gray')\n",
    "    axs[1].imshow(axial_stack_lut[i], 'gray')\n",
    "    axs[2].imshow(axial_stack_lut_full[i], 'gray')\n",
    "    axs[0].set_title(\"Raw\")\n",
    "    axs[1].set_title(\"VOI LUT\")\n",
    "    axs[2].set_title(\"Modality LUT + VOI LUT\")\n",
    "    for i, ax in enumerate(axs):\n",
    "        ax.axis('off')\n",
    "    plt.show()"
   ]
  },
  {
   "cell_type": "markdown",
   "id": "e3b9bcbd-e2ba-41aa-b470-2669faf8899b",
   "metadata": {},
   "source": [
    "### **Apply on CXR Image**"
   ]
  },
  {
   "cell_type": "code",
   "execution_count": null,
   "id": "36ebfd38-51d6-4544-bcc7-8b58747378c4",
   "metadata": {},
   "outputs": [],
   "source": [
    "fig, axs = plt.subplots(1, 2, dpi=300, sharey=True)\n",
    "axs[0].imshow(image, 'gray')\n",
    "axs[1].imshow(process_dicom_image(loaded_dicom), 'gray')\n",
    "\n",
    "axs[0].set_title(\"Original Image\")\n",
    "axs[1].set_title(\"Processed Image\")\n",
    "\n",
    "plt.show()"
   ]
  },
  {
   "cell_type": "code",
   "execution_count": null,
   "id": "bb11291d-0a84-4590-85d4-7767d32d940b",
   "metadata": {},
   "outputs": [],
   "source": [
    "loaded_dicom.BitsAllocated"
   ]
  },
  {
   "cell_type": "code",
   "execution_count": null,
   "id": "76c4d75a-ee08-4550-a1a5-adc5aaa8173c",
   "metadata": {},
   "outputs": [],
   "source": [
    "loaded_dicom.BitsStored"
   ]
  },
  {
   "cell_type": "markdown",
   "id": "ca85d2c6-2795-4aac-ad02-43f92d37e35f",
   "metadata": {},
   "source": [
    "### Experimenting with Histogram Equalization"
   ]
  },
  {
   "cell_type": "code",
   "execution_count": null,
   "id": "8090817f-83e2-408f-9d54-3ff249ed6328",
   "metadata": {},
   "outputs": [],
   "source": [
    "img = np.array((image - image.min()) / (np.ptp(image)) * 255, dtype=np.uint8)\n",
    "he_img = cv2.equalizeHist(img)"
   ]
  },
  {
   "cell_type": "code",
   "execution_count": null,
   "id": "286ae000-1552-4105-8041-fb3753023116",
   "metadata": {},
   "outputs": [],
   "source": [
    "fig, axs = plt.subplots(1, 2, dpi=300, sharey=True)\n",
    "axs[0].imshow(he_img, 'gray')\n",
    "axs[1].imshow(process_dicom_image(loaded_dicom), 'gray')\n",
    "\n",
    "axs[0].set_title(\"HE Image\")\n",
    "axs[1].set_title(\"VOI LUT Image\")\n",
    "\n",
    "plt.show()"
   ]
  },
  {
   "cell_type": "code",
   "execution_count": null,
   "id": "ec7125b8-d24d-4b55-8094-6387029fcc93",
   "metadata": {},
   "outputs": [],
   "source": [
    "fig, axs = plt.subplots(1, 2, figsize=(10, 5))\n",
    "axs[0].hist(he_img.flatten())\n",
    "axs[1].hist(process_dicom_image(loaded_dicom).flatten())\n",
    "\n",
    "axs[0].set_title(\"HE Image\")\n",
    "axs[1].set_title(\"VOI LUT Image\")\n",
    "\n",
    "plt.show()"
   ]
  },
  {
   "cell_type": "markdown",
   "id": "d4b45267-882d-4355-84bb-e2e9bd054ac7",
   "metadata": {},
   "source": [
    "# 3.1. Saving to PNG"
   ]
  },
  {
   "cell_type": "code",
   "execution_count": null,
   "id": "c541fe3a-3d23-46c0-ad45-a5e58bb3745f",
   "metadata": {},
   "outputs": [],
   "source": [
    "cxr_image = process_dicom_image(loaded_dicom)"
   ]
  },
  {
   "cell_type": "code",
   "execution_count": null,
   "id": "bd770498-9f7e-4a62-a21c-d5850d8e96ca",
   "metadata": {},
   "outputs": [],
   "source": [
    "# Convert pixel array to PNG as a 16-bit greyscale\n",
    "image_to_save = cxr_image.astype(np.double)\n",
    "\n",
    "# Rescale grey scale between 0-65535\n",
    "image_to_save = (np.maximum(image_to_save, 0) / image_to_save.max()) * 65535.0\n",
    "\n",
    "# Convert to uint16\n",
    "image_to_save = np.uint16(image_to_save)\n",
    "\n",
    "output_png_path = f\"./output/{loaded_dicom.SOPInstanceUID}.png\"\n",
    "\n",
    "if not os.path.exists(\"./output/\"):\n",
    "    os.makedirs(\"./output/\")\n",
    "\n",
    "image = Image.fromarray(image_to_save.astype(np.uint16))\n",
    "image.save(output_png_path)"
   ]
  },
  {
   "cell_type": "markdown",
   "id": "2eb593b3-b3a3-43c0-98a8-c86d22438e91",
   "metadata": {},
   "source": [
    "# 3.1. Common Normalization Techniques\n",
    "\n",
    "1. Min-max normalization\n",
    "2. Standardization"
   ]
  },
  {
   "cell_type": "markdown",
   "id": "ddf3e9fa-f818-426f-ac13-7cc0c4e4781b",
   "metadata": {},
   "source": [
    "## 3.1.1 Min-Max Normalization\n",
    "\n",
    "The most common Min-Max Normalization technique is transforming the pixel distribution between 0 and 1.\n",
    "\n",
    "The steps are as follows:\n",
    "\n",
    "1. Calculate the minimum and maximum pixel values of the image\n",
    "2. Subtract the image with it's minimum value\n",
    "3. Divide the results with the range of pixel values, i.e. Maximum minus Minimum (max - min)"
   ]
  },
  {
   "cell_type": "code",
   "execution_count": null,
   "id": "fffc1a9a-7de3-4f5b-8f5b-6a9028983736",
   "metadata": {},
   "outputs": [],
   "source": [
    "img_max = cxr_image.max()\n",
    "img_min = cxr_image.min()"
   ]
  },
  {
   "cell_type": "code",
   "execution_count": null,
   "id": "4d57a476-2ace-4943-85d5-be190aafb7f6",
   "metadata": {},
   "outputs": [],
   "source": [
    "normalized_img = (cxr_image - img_min) / (img_max - img_min)"
   ]
  },
  {
   "cell_type": "code",
   "execution_count": null,
   "id": "698f607b-3286-4c17-9e85-a5e67d57ace2",
   "metadata": {},
   "outputs": [],
   "source": [
    "normalized_img.min()"
   ]
  },
  {
   "cell_type": "code",
   "execution_count": null,
   "id": "56167d71-4199-4954-95fc-53a38bd71f9c",
   "metadata": {},
   "outputs": [],
   "source": [
    "normalized_img.max()"
   ]
  },
  {
   "cell_type": "code",
   "execution_count": null,
   "id": "4e5d32e3-af73-4fef-96fe-2985c99e286a",
   "metadata": {},
   "outputs": [],
   "source": [
    "print(f\"Cropped Image: (min={cxr_image.min():.2f}, max={cxr_image.max():.2f})\")\n",
    "print(f\"Normalized Image: (min={normalized_img.min():.2f}, max={normalized_img.max():.2f})\")\n",
    "\n",
    "fig, axs = plt.subplots(1, 2, dpi=300, constrained_layout=True, sharey=True)\n",
    "axs[0].imshow(cxr_image, 'gray')\n",
    "axs[1].imshow(normalized_img, 'gray')\n",
    "axs[0].set_title(\"Processed Image\")\n",
    "axs[1].set_title(\"Normalized Image\")\n",
    "plt.show()"
   ]
  },
  {
   "cell_type": "code",
   "execution_count": null,
   "id": "154b3418-ec31-4182-9c25-dd9de9d0c07e",
   "metadata": {},
   "outputs": [],
   "source": []
  },
  {
   "cell_type": "markdown",
   "id": "a55518a8-359b-4870-9a35-3fbf18b36a5c",
   "metadata": {},
   "source": [
    "# 4.6.2. Standardization\n",
    "\n",
    "The most common standardization technique is transforming the pixel distribution to a mean of zero and a standard deviation of 1 (or unit variance).\n",
    "\n",
    "The steps are as follows:\n",
    "\n",
    "1. Calculate the mean and standard deviation of the image\n",
    "2. Subtract the image with it's mean\n",
    "3. Divide the results with the standard deviation"
   ]
  },
  {
   "cell_type": "code",
   "execution_count": null,
   "id": "6a8cdc11-0291-461c-851a-912ec382f985",
   "metadata": {},
   "outputs": [],
   "source": [
    "img_mean = cxr_image.mean()\n",
    "img_std = cxr_image.std()"
   ]
  },
  {
   "cell_type": "code",
   "execution_count": null,
   "id": "900adc0a-92ad-465a-8be9-59d511af7a00",
   "metadata": {},
   "outputs": [],
   "source": [
    "standard_img = (cxr_image - img_mean) / img_std"
   ]
  },
  {
   "cell_type": "code",
   "execution_count": null,
   "id": "5b40d3b9-e929-43e9-b310-a9322f7cdff3",
   "metadata": {},
   "outputs": [],
   "source": [
    "standard_img.mean()"
   ]
  },
  {
   "cell_type": "code",
   "execution_count": null,
   "id": "cf63f72c-1b56-4fe4-8501-9049c3db9c42",
   "metadata": {},
   "outputs": [],
   "source": [
    "standard_img.std()"
   ]
  },
  {
   "cell_type": "code",
   "execution_count": null,
   "id": "169d8d80-47b9-4443-a5ac-d27077aeaaca",
   "metadata": {},
   "outputs": [],
   "source": [
    "print(f\"Processed Image: (mean={cxr_image.mean():.2f}, std={cxr_image.std():.2f})\")\n",
    "print(f\"Standardized Image: (mean={standard_img.mean():.2f}, std={standard_img.std():.2f})\")\n",
    "\n",
    "fig, axs = plt.subplots(1, 2, dpi=300, constrained_layout=True, sharey=True)\n",
    "axs[0].imshow(cxr_image, 'gray')\n",
    "axs[1].imshow(standard_img, 'gray')\n",
    "axs[0].set_title(\"Processed Image\")\n",
    "axs[1].set_title(\"Standardized Image\")\n",
    "plt.show()"
   ]
  },
  {
   "cell_type": "code",
   "execution_count": null,
   "id": "6cb4d48f-aa6d-4454-b64b-6ee8d3d13754",
   "metadata": {},
   "outputs": [],
   "source": []
  },
  {
   "cell_type": "markdown",
   "id": "6a14993e-5289-4c39-8460-24aea43a949b",
   "metadata": {},
   "source": [
    "# End"
   ]
  },
  {
   "cell_type": "code",
   "execution_count": null,
   "id": "b94b11bb-38fb-4ecd-9db2-6b74970512a1",
   "metadata": {},
   "outputs": [],
   "source": []
  }
 ],
 "metadata": {
  "kernelspec": {
   "display_name": "pandas",
   "language": "python",
   "name": "pandas"
  },
  "language_info": {
   "codemirror_mode": {
    "name": "ipython",
    "version": 3
   },
   "file_extension": ".py",
   "mimetype": "text/x-python",
   "name": "python",
   "nbconvert_exporter": "python",
   "pygments_lexer": "ipython3",
   "version": "3.11.9"
  }
 },
 "nbformat": 4,
 "nbformat_minor": 5
}
